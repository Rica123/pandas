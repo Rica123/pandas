{
 "cells": [
  {
   "cell_type": "markdown",
   "metadata": {},
   "source": [
    "<b>Pandas之索引操作</b>"
   ]
  },
  {
   "cell_type": "code",
   "execution_count": 1,
   "metadata": {
    "collapsed": true
   },
   "outputs": [],
   "source": [
    "import pandas as pd"
   ]
  },
  {
   "cell_type": "code",
   "execution_count": 2,
   "metadata": {
    "collapsed": false
   },
   "outputs": [
    {
     "data": {
      "text/html": [
       "<div>\n",
       "<table border=\"1\" class=\"dataframe\">\n",
       "  <thead>\n",
       "    <tr style=\"text-align: right;\">\n",
       "      <th></th>\n",
       "      <th>id</th>\n",
       "      <th>name</th>\n",
       "      <th>street</th>\n",
       "      <th>city</th>\n",
       "      <th>state</th>\n",
       "      <th>postal-code</th>\n",
       "      <th>Jan</th>\n",
       "      <th>Feb</th>\n",
       "      <th>Mar</th>\n",
       "      <th>year</th>\n",
       "    </tr>\n",
       "  </thead>\n",
       "  <tbody>\n",
       "    <tr>\n",
       "      <th>0</th>\n",
       "      <td>211829</td>\n",
       "      <td>Kerluke</td>\n",
       "      <td>34456 Sean Highway</td>\n",
       "      <td>New Jaycob</td>\n",
       "      <td>Texas</td>\n",
       "      <td>28752.0</td>\n",
       "      <td>10000.0</td>\n",
       "      <td>62000</td>\n",
       "      <td>35000</td>\n",
       "      <td>2006</td>\n",
       "    </tr>\n",
       "    <tr>\n",
       "      <th>1</th>\n",
       "      <td>320563</td>\n",
       "      <td>Walter</td>\n",
       "      <td>1311 Alvis Tunnel</td>\n",
       "      <td>Hyattburgh</td>\n",
       "      <td>Texas</td>\n",
       "      <td>38365.0</td>\n",
       "      <td>95000.0</td>\n",
       "      <td>45000</td>\n",
       "      <td>35000</td>\n",
       "      <td>2006</td>\n",
       "    </tr>\n",
       "    <tr>\n",
       "      <th>2</th>\n",
       "      <td>648336</td>\n",
       "      <td>Bashirian</td>\n",
       "      <td>62184 Schamberger Underpass Apt. 231</td>\n",
       "      <td>New Lilianland</td>\n",
       "      <td>Iowa</td>\n",
       "      <td>76517.0</td>\n",
       "      <td>NaN</td>\n",
       "      <td>120000</td>\n",
       "      <td>35000</td>\n",
       "      <td>2007</td>\n",
       "    </tr>\n",
       "    <tr>\n",
       "      <th>3</th>\n",
       "      <td>109996</td>\n",
       "      <td>Bode</td>\n",
       "      <td>155 Fadel Crescent Apt. 144</td>\n",
       "      <td>Hyattburgh</td>\n",
       "      <td>Texas</td>\n",
       "      <td>NaN</td>\n",
       "      <td>45000.0</td>\n",
       "      <td>120000</td>\n",
       "      <td>10000</td>\n",
       "      <td>2007</td>\n",
       "    </tr>\n",
       "    <tr>\n",
       "      <th>4</th>\n",
       "      <td>121213</td>\n",
       "      <td>Bauch</td>\n",
       "      <td>7274 Marissa Common</td>\n",
       "      <td>Shanahanchester</td>\n",
       "      <td>Iowa</td>\n",
       "      <td>49681.0</td>\n",
       "      <td>162000.0</td>\n",
       "      <td>120000</td>\n",
       "      <td>35000</td>\n",
       "      <td>2008</td>\n",
       "    </tr>\n",
       "  </tbody>\n",
       "</table>\n",
       "</div>"
      ],
      "text/plain": [
       "       id       name                                street             city  \\\n",
       "0  211829    Kerluke                    34456 Sean Highway       New Jaycob   \n",
       "1  320563     Walter                     1311 Alvis Tunnel       Hyattburgh   \n",
       "2  648336  Bashirian  62184 Schamberger Underpass Apt. 231   New Lilianland   \n",
       "3  109996       Bode           155 Fadel Crescent Apt. 144       Hyattburgh   \n",
       "4  121213      Bauch                   7274 Marissa Common  Shanahanchester   \n",
       "\n",
       "   state  postal-code       Jan     Feb    Mar  year  \n",
       "0  Texas      28752.0   10000.0   62000  35000  2006  \n",
       "1  Texas      38365.0   95000.0   45000  35000  2006  \n",
       "2   Iowa      76517.0       NaN  120000  35000  2007  \n",
       "3  Texas          NaN   45000.0  120000  10000  2007  \n",
       "4   Iowa      49681.0  162000.0  120000  35000  2008  "
      ]
     },
     "execution_count": 2,
     "metadata": {},
     "output_type": "execute_result"
    }
   ],
   "source": [
    "data = pd.read_excel('excel-comp-data.xlsx')\n",
    "data"
   ]
  },
  {
   "cell_type": "markdown",
   "metadata": {},
   "source": [
    "<b>1. 建立索引</b>"
   ]
  },
  {
   "cell_type": "markdown",
   "metadata": {},
   "source": [
    "我们可以使用index_col参数来设置得到的DataFrame的index，例如，可以直接将id列设为index_col，当然了，也可以将state和name列合并在一起作为index_col，无论如何，目的都是为了让index唯一，如果不唯一，根据index查询值会得到多条记录。"
   ]
  },
  {
   "cell_type": "code",
   "execution_count": 3,
   "metadata": {
    "collapsed": false
   },
   "outputs": [
    {
     "data": {
      "text/html": [
       "<div>\n",
       "<table border=\"1\" class=\"dataframe\">\n",
       "  <thead>\n",
       "    <tr style=\"text-align: right;\">\n",
       "      <th></th>\n",
       "      <th>name</th>\n",
       "      <th>street</th>\n",
       "      <th>city</th>\n",
       "      <th>state</th>\n",
       "      <th>postal-code</th>\n",
       "      <th>Jan</th>\n",
       "      <th>Feb</th>\n",
       "      <th>Mar</th>\n",
       "      <th>year</th>\n",
       "    </tr>\n",
       "    <tr>\n",
       "      <th>id</th>\n",
       "      <th></th>\n",
       "      <th></th>\n",
       "      <th></th>\n",
       "      <th></th>\n",
       "      <th></th>\n",
       "      <th></th>\n",
       "      <th></th>\n",
       "      <th></th>\n",
       "      <th></th>\n",
       "    </tr>\n",
       "  </thead>\n",
       "  <tbody>\n",
       "    <tr>\n",
       "      <th>211829</th>\n",
       "      <td>Kerluke</td>\n",
       "      <td>34456 Sean Highway</td>\n",
       "      <td>New Jaycob</td>\n",
       "      <td>Texas</td>\n",
       "      <td>28752.0</td>\n",
       "      <td>10000.0</td>\n",
       "      <td>62000</td>\n",
       "      <td>35000</td>\n",
       "      <td>2006</td>\n",
       "    </tr>\n",
       "    <tr>\n",
       "      <th>320563</th>\n",
       "      <td>Walter</td>\n",
       "      <td>1311 Alvis Tunnel</td>\n",
       "      <td>Hyattburgh</td>\n",
       "      <td>Texas</td>\n",
       "      <td>38365.0</td>\n",
       "      <td>95000.0</td>\n",
       "      <td>45000</td>\n",
       "      <td>35000</td>\n",
       "      <td>2006</td>\n",
       "    </tr>\n",
       "    <tr>\n",
       "      <th>648336</th>\n",
       "      <td>Bashirian</td>\n",
       "      <td>62184 Schamberger Underpass Apt. 231</td>\n",
       "      <td>New Lilianland</td>\n",
       "      <td>Iowa</td>\n",
       "      <td>76517.0</td>\n",
       "      <td>NaN</td>\n",
       "      <td>120000</td>\n",
       "      <td>35000</td>\n",
       "      <td>2007</td>\n",
       "    </tr>\n",
       "    <tr>\n",
       "      <th>109996</th>\n",
       "      <td>Bode</td>\n",
       "      <td>155 Fadel Crescent Apt. 144</td>\n",
       "      <td>Hyattburgh</td>\n",
       "      <td>Texas</td>\n",
       "      <td>NaN</td>\n",
       "      <td>45000.0</td>\n",
       "      <td>120000</td>\n",
       "      <td>10000</td>\n",
       "      <td>2007</td>\n",
       "    </tr>\n",
       "    <tr>\n",
       "      <th>121213</th>\n",
       "      <td>Bauch</td>\n",
       "      <td>7274 Marissa Common</td>\n",
       "      <td>Shanahanchester</td>\n",
       "      <td>Iowa</td>\n",
       "      <td>49681.0</td>\n",
       "      <td>162000.0</td>\n",
       "      <td>120000</td>\n",
       "      <td>35000</td>\n",
       "      <td>2008</td>\n",
       "    </tr>\n",
       "  </tbody>\n",
       "</table>\n",
       "</div>"
      ],
      "text/plain": [
       "             name                                street             city  \\\n",
       "id                                                                         \n",
       "211829    Kerluke                    34456 Sean Highway       New Jaycob   \n",
       "320563     Walter                     1311 Alvis Tunnel       Hyattburgh   \n",
       "648336  Bashirian  62184 Schamberger Underpass Apt. 231   New Lilianland   \n",
       "109996       Bode           155 Fadel Crescent Apt. 144       Hyattburgh   \n",
       "121213      Bauch                   7274 Marissa Common  Shanahanchester   \n",
       "\n",
       "        state  postal-code       Jan     Feb    Mar  year  \n",
       "id                                                         \n",
       "211829  Texas      28752.0   10000.0   62000  35000  2006  \n",
       "320563  Texas      38365.0   95000.0   45000  35000  2006  \n",
       "648336   Iowa      76517.0       NaN  120000  35000  2007  \n",
       "109996  Texas          NaN   45000.0  120000  10000  2007  \n",
       "121213   Iowa      49681.0  162000.0  120000  35000  2008  "
      ]
     },
     "execution_count": 3,
     "metadata": {},
     "output_type": "execute_result"
    }
   ],
   "source": [
    "data2 = pd.read_excel('excel-comp-data.xlsx',index_col='id')\n",
    "data2.head()"
   ]
  },
  {
   "cell_type": "code",
   "execution_count": 4,
   "metadata": {
    "collapsed": false,
    "scrolled": true
   },
   "outputs": [
    {
     "data": {
      "text/html": [
       "<div>\n",
       "<table border=\"1\" class=\"dataframe\">\n",
       "  <thead>\n",
       "    <tr style=\"text-align: right;\">\n",
       "      <th></th>\n",
       "      <th>name</th>\n",
       "      <th>street</th>\n",
       "      <th>city</th>\n",
       "      <th>state</th>\n",
       "      <th>postal-code</th>\n",
       "      <th>Jan</th>\n",
       "      <th>Feb</th>\n",
       "      <th>Mar</th>\n",
       "      <th>year</th>\n",
       "    </tr>\n",
       "  </thead>\n",
       "  <tbody>\n",
       "    <tr>\n",
       "      <th>Texas_Kerluke</th>\n",
       "      <td>Kerluke</td>\n",
       "      <td>34456 Sean Highway</td>\n",
       "      <td>New Jaycob</td>\n",
       "      <td>Texas</td>\n",
       "      <td>28752.0</td>\n",
       "      <td>10000.0</td>\n",
       "      <td>62000</td>\n",
       "      <td>35000</td>\n",
       "      <td>2006</td>\n",
       "    </tr>\n",
       "    <tr>\n",
       "      <th>Texas_Walter</th>\n",
       "      <td>Walter</td>\n",
       "      <td>1311 Alvis Tunnel</td>\n",
       "      <td>Hyattburgh</td>\n",
       "      <td>Texas</td>\n",
       "      <td>38365.0</td>\n",
       "      <td>95000.0</td>\n",
       "      <td>45000</td>\n",
       "      <td>35000</td>\n",
       "      <td>2006</td>\n",
       "    </tr>\n",
       "    <tr>\n",
       "      <th>Iowa_Bashirian</th>\n",
       "      <td>Bashirian</td>\n",
       "      <td>62184 Schamberger Underpass Apt. 231</td>\n",
       "      <td>New Lilianland</td>\n",
       "      <td>Iowa</td>\n",
       "      <td>76517.0</td>\n",
       "      <td>NaN</td>\n",
       "      <td>120000</td>\n",
       "      <td>35000</td>\n",
       "      <td>2007</td>\n",
       "    </tr>\n",
       "    <tr>\n",
       "      <th>Texas_Bode</th>\n",
       "      <td>Bode</td>\n",
       "      <td>155 Fadel Crescent Apt. 144</td>\n",
       "      <td>Hyattburgh</td>\n",
       "      <td>Texas</td>\n",
       "      <td>NaN</td>\n",
       "      <td>45000.0</td>\n",
       "      <td>120000</td>\n",
       "      <td>10000</td>\n",
       "      <td>2007</td>\n",
       "    </tr>\n",
       "    <tr>\n",
       "      <th>Iowa_Bauch</th>\n",
       "      <td>Bauch</td>\n",
       "      <td>7274 Marissa Common</td>\n",
       "      <td>Shanahanchester</td>\n",
       "      <td>Iowa</td>\n",
       "      <td>49681.0</td>\n",
       "      <td>162000.0</td>\n",
       "      <td>120000</td>\n",
       "      <td>35000</td>\n",
       "      <td>2008</td>\n",
       "    </tr>\n",
       "  </tbody>\n",
       "</table>\n",
       "</div>"
      ],
      "text/plain": [
       "                     name                                street  \\\n",
       "Texas_Kerluke     Kerluke                    34456 Sean Highway   \n",
       "Texas_Walter       Walter                     1311 Alvis Tunnel   \n",
       "Iowa_Bashirian  Bashirian  62184 Schamberger Underpass Apt. 231   \n",
       "Texas_Bode           Bode           155 Fadel Crescent Apt. 144   \n",
       "Iowa_Bauch          Bauch                   7274 Marissa Common   \n",
       "\n",
       "                           city  state  postal-code       Jan     Feb    Mar  \\\n",
       "Texas_Kerluke        New Jaycob  Texas      28752.0   10000.0   62000  35000   \n",
       "Texas_Walter         Hyattburgh  Texas      38365.0   95000.0   45000  35000   \n",
       "Iowa_Bashirian   New Lilianland   Iowa      76517.0       NaN  120000  35000   \n",
       "Texas_Bode           Hyattburgh  Texas          NaN   45000.0  120000  10000   \n",
       "Iowa_Bauch      Shanahanchester   Iowa      49681.0  162000.0  120000  35000   \n",
       "\n",
       "                year  \n",
       "Texas_Kerluke   2006  \n",
       "Texas_Walter    2006  \n",
       "Iowa_Bashirian  2007  \n",
       "Texas_Bode      2007  \n",
       "Iowa_Bauch      2008  "
      ]
     },
     "execution_count": 4,
     "metadata": {},
     "output_type": "execute_result"
    }
   ],
   "source": [
    "new_index_col = data2.state.map(lambda x: x + '_') + data2.name\n",
    "data_new = data2.copy()\n",
    "data_new.index = new_index_col\n",
    "data_new.head()"
   ]
  },
  {
   "cell_type": "markdown",
   "metadata": {},
   "source": [
    "可以使用index的is_unique属性来查看index是否唯一。"
   ]
  },
  {
   "cell_type": "code",
   "execution_count": 5,
   "metadata": {
    "collapsed": false
   },
   "outputs": [
    {
     "data": {
      "text/plain": [
       "True"
      ]
     },
     "execution_count": 5,
     "metadata": {},
     "output_type": "execute_result"
    }
   ],
   "source": [
    "data_new.index.is_unique"
   ]
  },
  {
   "cell_type": "markdown",
   "metadata": {},
   "source": [
    "<b>2. 索引处理</b>"
   ]
  },
  {
   "cell_type": "markdown",
   "metadata": {},
   "source": [
    "有时候需要重建索引，常用的一个方法是reindex方法，可以用它来改变行顺序，列顺序。"
   ]
  },
  {
   "cell_type": "code",
   "execution_count": 6,
   "metadata": {
    "collapsed": false
   },
   "outputs": [
    {
     "data": {
      "text/html": [
       "<div>\n",
       "<table border=\"1\" class=\"dataframe\">\n",
       "  <thead>\n",
       "    <tr style=\"text-align: right;\">\n",
       "      <th></th>\n",
       "      <th>id</th>\n",
       "      <th>name</th>\n",
       "      <th>street</th>\n",
       "      <th>city</th>\n",
       "      <th>state</th>\n",
       "      <th>postal-code</th>\n",
       "      <th>Jan</th>\n",
       "      <th>Feb</th>\n",
       "      <th>Mar</th>\n",
       "      <th>year</th>\n",
       "    </tr>\n",
       "  </thead>\n",
       "  <tbody>\n",
       "    <tr>\n",
       "      <th>4</th>\n",
       "      <td>121213</td>\n",
       "      <td>Bauch</td>\n",
       "      <td>7274 Marissa Common</td>\n",
       "      <td>Shanahanchester</td>\n",
       "      <td>Iowa</td>\n",
       "      <td>49681.0</td>\n",
       "      <td>162000.0</td>\n",
       "      <td>120000</td>\n",
       "      <td>35000</td>\n",
       "      <td>2008</td>\n",
       "    </tr>\n",
       "    <tr>\n",
       "      <th>3</th>\n",
       "      <td>109996</td>\n",
       "      <td>Bode</td>\n",
       "      <td>155 Fadel Crescent Apt. 144</td>\n",
       "      <td>Hyattburgh</td>\n",
       "      <td>Texas</td>\n",
       "      <td>NaN</td>\n",
       "      <td>45000.0</td>\n",
       "      <td>120000</td>\n",
       "      <td>10000</td>\n",
       "      <td>2007</td>\n",
       "    </tr>\n",
       "    <tr>\n",
       "      <th>2</th>\n",
       "      <td>648336</td>\n",
       "      <td>Bashirian</td>\n",
       "      <td>62184 Schamberger Underpass Apt. 231</td>\n",
       "      <td>New Lilianland</td>\n",
       "      <td>Iowa</td>\n",
       "      <td>76517.0</td>\n",
       "      <td>NaN</td>\n",
       "      <td>120000</td>\n",
       "      <td>35000</td>\n",
       "      <td>2007</td>\n",
       "    </tr>\n",
       "    <tr>\n",
       "      <th>1</th>\n",
       "      <td>320563</td>\n",
       "      <td>Walter</td>\n",
       "      <td>1311 Alvis Tunnel</td>\n",
       "      <td>Hyattburgh</td>\n",
       "      <td>Texas</td>\n",
       "      <td>38365.0</td>\n",
       "      <td>95000.0</td>\n",
       "      <td>45000</td>\n",
       "      <td>35000</td>\n",
       "      <td>2006</td>\n",
       "    </tr>\n",
       "    <tr>\n",
       "      <th>0</th>\n",
       "      <td>211829</td>\n",
       "      <td>Kerluke</td>\n",
       "      <td>34456 Sean Highway</td>\n",
       "      <td>New Jaycob</td>\n",
       "      <td>Texas</td>\n",
       "      <td>28752.0</td>\n",
       "      <td>10000.0</td>\n",
       "      <td>62000</td>\n",
       "      <td>35000</td>\n",
       "      <td>2006</td>\n",
       "    </tr>\n",
       "  </tbody>\n",
       "</table>\n",
       "</div>"
      ],
      "text/plain": [
       "       id       name                                street             city  \\\n",
       "4  121213      Bauch                   7274 Marissa Common  Shanahanchester   \n",
       "3  109996       Bode           155 Fadel Crescent Apt. 144       Hyattburgh   \n",
       "2  648336  Bashirian  62184 Schamberger Underpass Apt. 231   New Lilianland   \n",
       "1  320563     Walter                     1311 Alvis Tunnel       Hyattburgh   \n",
       "0  211829    Kerluke                    34456 Sean Highway       New Jaycob   \n",
       "\n",
       "   state  postal-code       Jan     Feb    Mar  year  \n",
       "4   Iowa      49681.0  162000.0  120000  35000  2008  \n",
       "3  Texas          NaN   45000.0  120000  10000  2007  \n",
       "2   Iowa      76517.0       NaN  120000  35000  2007  \n",
       "1  Texas      38365.0   95000.0   45000  35000  2006  \n",
       "0  Texas      28752.0   10000.0   62000  35000  2006  "
      ]
     },
     "execution_count": 6,
     "metadata": {},
     "output_type": "execute_result"
    }
   ],
   "source": [
    "data.reindex(index = data.index[::-1]) # 将行顺序进行反转"
   ]
  },
  {
   "cell_type": "code",
   "execution_count": 7,
   "metadata": {
    "collapsed": false
   },
   "outputs": [
    {
     "data": {
      "text/html": [
       "<div>\n",
       "<table border=\"1\" class=\"dataframe\">\n",
       "  <thead>\n",
       "    <tr style=\"text-align: right;\">\n",
       "      <th></th>\n",
       "      <th>street</th>\n",
       "      <th>Jan</th>\n",
       "    </tr>\n",
       "  </thead>\n",
       "  <tbody>\n",
       "    <tr>\n",
       "      <th>4</th>\n",
       "      <td>7274 Marissa Common</td>\n",
       "      <td>162000.0</td>\n",
       "    </tr>\n",
       "    <tr>\n",
       "      <th>3</th>\n",
       "      <td>155 Fadel Crescent Apt. 144</td>\n",
       "      <td>45000.0</td>\n",
       "    </tr>\n",
       "    <tr>\n",
       "      <th>2</th>\n",
       "      <td>62184 Schamberger Underpass Apt. 231</td>\n",
       "      <td>NaN</td>\n",
       "    </tr>\n",
       "    <tr>\n",
       "      <th>1</th>\n",
       "      <td>1311 Alvis Tunnel</td>\n",
       "      <td>95000.0</td>\n",
       "    </tr>\n",
       "    <tr>\n",
       "      <th>0</th>\n",
       "      <td>34456 Sean Highway</td>\n",
       "      <td>10000.0</td>\n",
       "    </tr>\n",
       "  </tbody>\n",
       "</table>\n",
       "</div>"
      ],
      "text/plain": [
       "                                 street       Jan\n",
       "4                   7274 Marissa Common  162000.0\n",
       "3           155 Fadel Crescent Apt. 144   45000.0\n",
       "2  62184 Schamberger Underpass Apt. 231       NaN\n",
       "1                     1311 Alvis Tunnel   95000.0\n",
       "0                    34456 Sean Highway   10000.0"
      ]
     },
     "execution_count": 7,
     "metadata": {},
     "output_type": "execute_result"
    }
   ],
   "source": [
    "data.reindex(index=data.index[::-1],columns=['street','Jan']) # 将行顺序反转，列只取['street','name']两列"
   ]
  },
  {
   "cell_type": "markdown",
   "metadata": {},
   "source": [
    "使用method可以按照特定的形式补齐NaN值，使用fill_value可以指定将NaN值指定为特定的值。"
   ]
  },
  {
   "cell_type": "code",
   "execution_count": 8,
   "metadata": {
    "collapsed": false
   },
   "outputs": [
    {
     "data": {
      "text/html": [
       "<div>\n",
       "<table border=\"1\" class=\"dataframe\">\n",
       "  <thead>\n",
       "    <tr style=\"text-align: right;\">\n",
       "      <th></th>\n",
       "      <th>Feb</th>\n",
       "      <th>Jan</th>\n",
       "    </tr>\n",
       "  </thead>\n",
       "  <tbody>\n",
       "    <tr>\n",
       "      <th>4</th>\n",
       "      <td>120000</td>\n",
       "      <td>162000.0</td>\n",
       "    </tr>\n",
       "    <tr>\n",
       "      <th>3</th>\n",
       "      <td>120000</td>\n",
       "      <td>45000.0</td>\n",
       "    </tr>\n",
       "    <tr>\n",
       "      <th>2</th>\n",
       "      <td>120000</td>\n",
       "      <td>NaN</td>\n",
       "    </tr>\n",
       "    <tr>\n",
       "      <th>1</th>\n",
       "      <td>45000</td>\n",
       "      <td>95000.0</td>\n",
       "    </tr>\n",
       "    <tr>\n",
       "      <th>0</th>\n",
       "      <td>62000</td>\n",
       "      <td>10000.0</td>\n",
       "    </tr>\n",
       "  </tbody>\n",
       "</table>\n",
       "</div>"
      ],
      "text/plain": [
       "      Feb       Jan\n",
       "4  120000  162000.0\n",
       "3  120000   45000.0\n",
       "2  120000       NaN\n",
       "1   45000   95000.0\n",
       "0   62000   10000.0"
      ]
     },
     "execution_count": 8,
     "metadata": {},
     "output_type": "execute_result"
    }
   ],
   "source": [
    "data.reindex(index=data.index[::-1],method='ffill',columns=['Feb','Jan'])"
   ]
  },
  {
   "cell_type": "code",
   "execution_count": 9,
   "metadata": {
    "collapsed": false
   },
   "outputs": [
    {
     "data": {
      "text/html": [
       "<div>\n",
       "<table border=\"1\" class=\"dataframe\">\n",
       "  <thead>\n",
       "    <tr style=\"text-align: right;\">\n",
       "      <th></th>\n",
       "      <th>street</th>\n",
       "      <th>Jan</th>\n",
       "    </tr>\n",
       "  </thead>\n",
       "  <tbody>\n",
       "    <tr>\n",
       "      <th>4</th>\n",
       "      <td>7274 Marissa Common</td>\n",
       "      <td>162000.0</td>\n",
       "    </tr>\n",
       "    <tr>\n",
       "      <th>3</th>\n",
       "      <td>155 Fadel Crescent Apt. 144</td>\n",
       "      <td>45000.0</td>\n",
       "    </tr>\n",
       "    <tr>\n",
       "      <th>2</th>\n",
       "      <td>62184 Schamberger Underpass Apt. 231</td>\n",
       "      <td>NaN</td>\n",
       "    </tr>\n",
       "    <tr>\n",
       "      <th>1</th>\n",
       "      <td>1311 Alvis Tunnel</td>\n",
       "      <td>95000.0</td>\n",
       "    </tr>\n",
       "    <tr>\n",
       "      <th>0</th>\n",
       "      <td>34456 Sean Highway</td>\n",
       "      <td>10000.0</td>\n",
       "    </tr>\n",
       "  </tbody>\n",
       "</table>\n",
       "</div>"
      ],
      "text/plain": [
       "                                 street       Jan\n",
       "4                   7274 Marissa Common  162000.0\n",
       "3           155 Fadel Crescent Apt. 144   45000.0\n",
       "2  62184 Schamberger Underpass Apt. 231       NaN\n",
       "1                     1311 Alvis Tunnel   95000.0\n",
       "0                    34456 Sean Highway   10000.0"
      ]
     },
     "execution_count": 9,
     "metadata": {},
     "output_type": "execute_result"
    }
   ],
   "source": [
    "data.reindex(index=data.index[::-1],fill_value='1',columns=['street','Jan'])"
   ]
  },
  {
   "cell_type": "markdown",
   "metadata": {},
   "source": [
    "其实使用ix也可以实现行顺序和列顺序的改变，但是没法补充NaN值。"
   ]
  },
  {
   "cell_type": "code",
   "execution_count": 10,
   "metadata": {
    "collapsed": false
   },
   "outputs": [
    {
     "data": {
      "text/html": [
       "<div>\n",
       "<table border=\"1\" class=\"dataframe\">\n",
       "  <thead>\n",
       "    <tr style=\"text-align: right;\">\n",
       "      <th></th>\n",
       "      <th>street</th>\n",
       "      <th>Jan</th>\n",
       "    </tr>\n",
       "  </thead>\n",
       "  <tbody>\n",
       "    <tr>\n",
       "      <th>4</th>\n",
       "      <td>7274 Marissa Common</td>\n",
       "      <td>162000.0</td>\n",
       "    </tr>\n",
       "    <tr>\n",
       "      <th>3</th>\n",
       "      <td>155 Fadel Crescent Apt. 144</td>\n",
       "      <td>45000.0</td>\n",
       "    </tr>\n",
       "    <tr>\n",
       "      <th>2</th>\n",
       "      <td>62184 Schamberger Underpass Apt. 231</td>\n",
       "      <td>NaN</td>\n",
       "    </tr>\n",
       "    <tr>\n",
       "      <th>1</th>\n",
       "      <td>1311 Alvis Tunnel</td>\n",
       "      <td>95000.0</td>\n",
       "    </tr>\n",
       "    <tr>\n",
       "      <th>0</th>\n",
       "      <td>34456 Sean Highway</td>\n",
       "      <td>10000.0</td>\n",
       "    </tr>\n",
       "  </tbody>\n",
       "</table>\n",
       "</div>"
      ],
      "text/plain": [
       "                                 street       Jan\n",
       "4                   7274 Marissa Common  162000.0\n",
       "3           155 Fadel Crescent Apt. 144   45000.0\n",
       "2  62184 Schamberger Underpass Apt. 231       NaN\n",
       "1                     1311 Alvis Tunnel   95000.0\n",
       "0                    34456 Sean Highway   10000.0"
      ]
     },
     "execution_count": 10,
     "metadata": {},
     "output_type": "execute_result"
    }
   ],
   "source": [
    "new_index = data.index[::-1]\n",
    "col = ['street','Jan']\n",
    "data.ix[new_index,col]"
   ]
  },
  {
   "cell_type": "markdown",
   "metadata": {},
   "source": [
    "<b>drop操作</b>"
   ]
  },
  {
   "cell_type": "markdown",
   "metadata": {},
   "source": [
    "drop可以删除特定的行数据或列数据，axis可以指定删除行/列，inplace可以指定是否在元数据进行删除。"
   ]
  },
  {
   "cell_type": "code",
   "execution_count": 11,
   "metadata": {
    "collapsed": false
   },
   "outputs": [
    {
     "data": {
      "text/html": [
       "<div>\n",
       "<table border=\"1\" class=\"dataframe\">\n",
       "  <thead>\n",
       "    <tr style=\"text-align: right;\">\n",
       "      <th></th>\n",
       "      <th>id</th>\n",
       "      <th>name</th>\n",
       "      <th>street</th>\n",
       "      <th>city</th>\n",
       "      <th>state</th>\n",
       "      <th>postal-code</th>\n",
       "      <th>Jan</th>\n",
       "      <th>Feb</th>\n",
       "      <th>Mar</th>\n",
       "      <th>year</th>\n",
       "    </tr>\n",
       "  </thead>\n",
       "  <tbody>\n",
       "    <tr>\n",
       "      <th>0</th>\n",
       "      <td>211829</td>\n",
       "      <td>Kerluke</td>\n",
       "      <td>34456 Sean Highway</td>\n",
       "      <td>New Jaycob</td>\n",
       "      <td>Texas</td>\n",
       "      <td>28752.0</td>\n",
       "      <td>10000.0</td>\n",
       "      <td>62000</td>\n",
       "      <td>35000</td>\n",
       "      <td>2006</td>\n",
       "    </tr>\n",
       "    <tr>\n",
       "      <th>2</th>\n",
       "      <td>648336</td>\n",
       "      <td>Bashirian</td>\n",
       "      <td>62184 Schamberger Underpass Apt. 231</td>\n",
       "      <td>New Lilianland</td>\n",
       "      <td>Iowa</td>\n",
       "      <td>76517.0</td>\n",
       "      <td>NaN</td>\n",
       "      <td>120000</td>\n",
       "      <td>35000</td>\n",
       "      <td>2007</td>\n",
       "    </tr>\n",
       "    <tr>\n",
       "      <th>4</th>\n",
       "      <td>121213</td>\n",
       "      <td>Bauch</td>\n",
       "      <td>7274 Marissa Common</td>\n",
       "      <td>Shanahanchester</td>\n",
       "      <td>Iowa</td>\n",
       "      <td>49681.0</td>\n",
       "      <td>162000.0</td>\n",
       "      <td>120000</td>\n",
       "      <td>35000</td>\n",
       "      <td>2008</td>\n",
       "    </tr>\n",
       "  </tbody>\n",
       "</table>\n",
       "</div>"
      ],
      "text/plain": [
       "       id       name                                street             city  \\\n",
       "0  211829    Kerluke                    34456 Sean Highway       New Jaycob   \n",
       "2  648336  Bashirian  62184 Schamberger Underpass Apt. 231   New Lilianland   \n",
       "4  121213      Bauch                   7274 Marissa Common  Shanahanchester   \n",
       "\n",
       "   state  postal-code       Jan     Feb    Mar  year  \n",
       "0  Texas      28752.0   10000.0   62000  35000  2006  \n",
       "2   Iowa      76517.0       NaN  120000  35000  2007  \n",
       "4   Iowa      49681.0  162000.0  120000  35000  2008  "
      ]
     },
     "execution_count": 11,
     "metadata": {},
     "output_type": "execute_result"
    }
   ],
   "source": [
    "data.drop([1,3]) # 删除第1行和第3行数据"
   ]
  },
  {
   "cell_type": "code",
   "execution_count": 12,
   "metadata": {
    "collapsed": false
   },
   "outputs": [
    {
     "data": {
      "text/html": [
       "<div>\n",
       "<table border=\"1\" class=\"dataframe\">\n",
       "  <thead>\n",
       "    <tr style=\"text-align: right;\">\n",
       "      <th></th>\n",
       "      <th>id</th>\n",
       "      <th>name</th>\n",
       "      <th>street</th>\n",
       "      <th>city</th>\n",
       "      <th>state</th>\n",
       "      <th>year</th>\n",
       "    </tr>\n",
       "  </thead>\n",
       "  <tbody>\n",
       "    <tr>\n",
       "      <th>0</th>\n",
       "      <td>211829</td>\n",
       "      <td>Kerluke</td>\n",
       "      <td>34456 Sean Highway</td>\n",
       "      <td>New Jaycob</td>\n",
       "      <td>Texas</td>\n",
       "      <td>2006</td>\n",
       "    </tr>\n",
       "    <tr>\n",
       "      <th>1</th>\n",
       "      <td>320563</td>\n",
       "      <td>Walter</td>\n",
       "      <td>1311 Alvis Tunnel</td>\n",
       "      <td>Hyattburgh</td>\n",
       "      <td>Texas</td>\n",
       "      <td>2006</td>\n",
       "    </tr>\n",
       "    <tr>\n",
       "      <th>2</th>\n",
       "      <td>648336</td>\n",
       "      <td>Bashirian</td>\n",
       "      <td>62184 Schamberger Underpass Apt. 231</td>\n",
       "      <td>New Lilianland</td>\n",
       "      <td>Iowa</td>\n",
       "      <td>2007</td>\n",
       "    </tr>\n",
       "    <tr>\n",
       "      <th>3</th>\n",
       "      <td>109996</td>\n",
       "      <td>Bode</td>\n",
       "      <td>155 Fadel Crescent Apt. 144</td>\n",
       "      <td>Hyattburgh</td>\n",
       "      <td>Texas</td>\n",
       "      <td>2007</td>\n",
       "    </tr>\n",
       "    <tr>\n",
       "      <th>4</th>\n",
       "      <td>121213</td>\n",
       "      <td>Bauch</td>\n",
       "      <td>7274 Marissa Common</td>\n",
       "      <td>Shanahanchester</td>\n",
       "      <td>Iowa</td>\n",
       "      <td>2008</td>\n",
       "    </tr>\n",
       "  </tbody>\n",
       "</table>\n",
       "</div>"
      ],
      "text/plain": [
       "       id       name                                street             city  \\\n",
       "0  211829    Kerluke                    34456 Sean Highway       New Jaycob   \n",
       "1  320563     Walter                     1311 Alvis Tunnel       Hyattburgh   \n",
       "2  648336  Bashirian  62184 Schamberger Underpass Apt. 231   New Lilianland   \n",
       "3  109996       Bode           155 Fadel Crescent Apt. 144       Hyattburgh   \n",
       "4  121213      Bauch                   7274 Marissa Common  Shanahanchester   \n",
       "\n",
       "   state  year  \n",
       "0  Texas  2006  \n",
       "1  Texas  2006  \n",
       "2   Iowa  2007  \n",
       "3  Texas  2007  \n",
       "4   Iowa  2008  "
      ]
     },
     "execution_count": 12,
     "metadata": {},
     "output_type": "execute_result"
    }
   ],
   "source": [
    "data.drop(['postal-code','Jan','Feb','Mar'],axis=1) # 删除指定的列"
   ]
  },
  {
   "cell_type": "markdown",
   "metadata": {},
   "source": [
    "<b>索引、挑选和过滤</b>"
   ]
  },
  {
   "cell_type": "markdown",
   "metadata": {},
   "source": [
    "使用“.”方式索引指定的列数据"
   ]
  },
  {
   "cell_type": "code",
   "execution_count": 13,
   "metadata": {
    "collapsed": false
   },
   "outputs": [
    {
     "data": {
      "text/plain": [
       "0         New Jaycob\n",
       "1         Hyattburgh\n",
       "2     New Lilianland\n",
       "3         Hyattburgh\n",
       "4    Shanahanchester\n",
       "Name: city, dtype: object"
      ]
     },
     "execution_count": 13,
     "metadata": {},
     "output_type": "execute_result"
    }
   ],
   "source": [
    "data.city"
   ]
  },
  {
   "cell_type": "markdown",
   "metadata": {},
   "source": [
    "使用切片的方式索引指定行数据,和python切片不同的是，会包括结束点。"
   ]
  },
  {
   "cell_type": "code",
   "execution_count": 14,
   "metadata": {
    "collapsed": false
   },
   "outputs": [
    {
     "data": {
      "text/html": [
       "<div>\n",
       "<table border=\"1\" class=\"dataframe\">\n",
       "  <thead>\n",
       "    <tr style=\"text-align: right;\">\n",
       "      <th></th>\n",
       "      <th>id</th>\n",
       "      <th>name</th>\n",
       "      <th>street</th>\n",
       "      <th>city</th>\n",
       "      <th>state</th>\n",
       "      <th>postal-code</th>\n",
       "      <th>Jan</th>\n",
       "      <th>Feb</th>\n",
       "      <th>Mar</th>\n",
       "      <th>year</th>\n",
       "    </tr>\n",
       "  </thead>\n",
       "  <tbody>\n",
       "    <tr>\n",
       "      <th>0</th>\n",
       "      <td>211829</td>\n",
       "      <td>Kerluke</td>\n",
       "      <td>34456 Sean Highway</td>\n",
       "      <td>New Jaycob</td>\n",
       "      <td>Texas</td>\n",
       "      <td>28752.0</td>\n",
       "      <td>10000.0</td>\n",
       "      <td>62000</td>\n",
       "      <td>35000</td>\n",
       "      <td>2006</td>\n",
       "    </tr>\n",
       "    <tr>\n",
       "      <th>1</th>\n",
       "      <td>320563</td>\n",
       "      <td>Walter</td>\n",
       "      <td>1311 Alvis Tunnel</td>\n",
       "      <td>Hyattburgh</td>\n",
       "      <td>Texas</td>\n",
       "      <td>38365.0</td>\n",
       "      <td>95000.0</td>\n",
       "      <td>45000</td>\n",
       "      <td>35000</td>\n",
       "      <td>2006</td>\n",
       "    </tr>\n",
       "    <tr>\n",
       "      <th>2</th>\n",
       "      <td>648336</td>\n",
       "      <td>Bashirian</td>\n",
       "      <td>62184 Schamberger Underpass Apt. 231</td>\n",
       "      <td>New Lilianland</td>\n",
       "      <td>Iowa</td>\n",
       "      <td>76517.0</td>\n",
       "      <td>NaN</td>\n",
       "      <td>120000</td>\n",
       "      <td>35000</td>\n",
       "      <td>2007</td>\n",
       "    </tr>\n",
       "    <tr>\n",
       "      <th>3</th>\n",
       "      <td>109996</td>\n",
       "      <td>Bode</td>\n",
       "      <td>155 Fadel Crescent Apt. 144</td>\n",
       "      <td>Hyattburgh</td>\n",
       "      <td>Texas</td>\n",
       "      <td>NaN</td>\n",
       "      <td>45000.0</td>\n",
       "      <td>120000</td>\n",
       "      <td>10000</td>\n",
       "      <td>2007</td>\n",
       "    </tr>\n",
       "    <tr>\n",
       "      <th>4</th>\n",
       "      <td>121213</td>\n",
       "      <td>Bauch</td>\n",
       "      <td>7274 Marissa Common</td>\n",
       "      <td>Shanahanchester</td>\n",
       "      <td>Iowa</td>\n",
       "      <td>49681.0</td>\n",
       "      <td>162000.0</td>\n",
       "      <td>120000</td>\n",
       "      <td>35000</td>\n",
       "      <td>2008</td>\n",
       "    </tr>\n",
       "  </tbody>\n",
       "</table>\n",
       "</div>"
      ],
      "text/plain": [
       "       id       name                                street             city  \\\n",
       "0  211829    Kerluke                    34456 Sean Highway       New Jaycob   \n",
       "1  320563     Walter                     1311 Alvis Tunnel       Hyattburgh   \n",
       "2  648336  Bashirian  62184 Schamberger Underpass Apt. 231   New Lilianland   \n",
       "3  109996       Bode           155 Fadel Crescent Apt. 144       Hyattburgh   \n",
       "4  121213      Bauch                   7274 Marissa Common  Shanahanchester   \n",
       "\n",
       "   state  postal-code       Jan     Feb    Mar  year  \n",
       "0  Texas      28752.0   10000.0   62000  35000  2006  \n",
       "1  Texas      38365.0   95000.0   45000  35000  2006  \n",
       "2   Iowa      76517.0       NaN  120000  35000  2007  \n",
       "3  Texas          NaN   45000.0  120000  10000  2007  \n",
       "4   Iowa      49681.0  162000.0  120000  35000  2008  "
      ]
     },
     "execution_count": 14,
     "metadata": {},
     "output_type": "execute_result"
    }
   ],
   "source": [
    "data[0:5]"
   ]
  },
  {
   "cell_type": "markdown",
   "metadata": {},
   "source": [
    "使用切片的方式索引指定的列数据。"
   ]
  },
  {
   "cell_type": "code",
   "execution_count": 15,
   "metadata": {
    "collapsed": false,
    "scrolled": true
   },
   "outputs": [
    {
     "data": {
      "text/html": [
       "<div>\n",
       "<table border=\"1\" class=\"dataframe\">\n",
       "  <thead>\n",
       "    <tr style=\"text-align: right;\">\n",
       "      <th></th>\n",
       "      <th>name</th>\n",
       "      <th>city</th>\n",
       "    </tr>\n",
       "  </thead>\n",
       "  <tbody>\n",
       "    <tr>\n",
       "      <th>0</th>\n",
       "      <td>Kerluke</td>\n",
       "      <td>New Jaycob</td>\n",
       "    </tr>\n",
       "    <tr>\n",
       "      <th>1</th>\n",
       "      <td>Walter</td>\n",
       "      <td>Hyattburgh</td>\n",
       "    </tr>\n",
       "    <tr>\n",
       "      <th>2</th>\n",
       "      <td>Bashirian</td>\n",
       "      <td>New Lilianland</td>\n",
       "    </tr>\n",
       "    <tr>\n",
       "      <th>3</th>\n",
       "      <td>Bode</td>\n",
       "      <td>Hyattburgh</td>\n",
       "    </tr>\n",
       "    <tr>\n",
       "      <th>4</th>\n",
       "      <td>Bauch</td>\n",
       "      <td>Shanahanchester</td>\n",
       "    </tr>\n",
       "  </tbody>\n",
       "</table>\n",
       "</div>"
      ],
      "text/plain": [
       "        name             city\n",
       "0    Kerluke       New Jaycob\n",
       "1     Walter       Hyattburgh\n",
       "2  Bashirian   New Lilianland\n",
       "3       Bode       Hyattburgh\n",
       "4      Bauch  Shanahanchester"
      ]
     },
     "execution_count": 15,
     "metadata": {},
     "output_type": "execute_result"
    }
   ],
   "source": [
    "data[['name','city']]"
   ]
  },
  {
   "cell_type": "markdown",
   "metadata": {},
   "source": [
    "使用比较方式来索引特定的值。"
   ]
  },
  {
   "cell_type": "code",
   "execution_count": 16,
   "metadata": {
    "collapsed": false
   },
   "outputs": [
    {
     "data": {
      "text/html": [
       "<div>\n",
       "<table border=\"1\" class=\"dataframe\">\n",
       "  <thead>\n",
       "    <tr style=\"text-align: right;\">\n",
       "      <th></th>\n",
       "      <th>id</th>\n",
       "      <th>name</th>\n",
       "      <th>street</th>\n",
       "      <th>city</th>\n",
       "      <th>state</th>\n",
       "      <th>postal-code</th>\n",
       "      <th>Jan</th>\n",
       "      <th>Feb</th>\n",
       "      <th>Mar</th>\n",
       "      <th>year</th>\n",
       "    </tr>\n",
       "  </thead>\n",
       "  <tbody>\n",
       "    <tr>\n",
       "      <th>1</th>\n",
       "      <td>320563</td>\n",
       "      <td>Walter</td>\n",
       "      <td>1311 Alvis Tunnel</td>\n",
       "      <td>Hyattburgh</td>\n",
       "      <td>Texas</td>\n",
       "      <td>38365.0</td>\n",
       "      <td>95000.0</td>\n",
       "      <td>45000</td>\n",
       "      <td>35000</td>\n",
       "      <td>2006</td>\n",
       "    </tr>\n",
       "    <tr>\n",
       "      <th>2</th>\n",
       "      <td>648336</td>\n",
       "      <td>Bashirian</td>\n",
       "      <td>62184 Schamberger Underpass Apt. 231</td>\n",
       "      <td>New Lilianland</td>\n",
       "      <td>Iowa</td>\n",
       "      <td>76517.0</td>\n",
       "      <td>NaN</td>\n",
       "      <td>120000</td>\n",
       "      <td>35000</td>\n",
       "      <td>2007</td>\n",
       "    </tr>\n",
       "  </tbody>\n",
       "</table>\n",
       "</div>"
      ],
      "text/plain": [
       "       id       name                                street            city  \\\n",
       "1  320563     Walter                     1311 Alvis Tunnel      Hyattburgh   \n",
       "2  648336  Bashirian  62184 Schamberger Underpass Apt. 231  New Lilianland   \n",
       "\n",
       "   state  postal-code      Jan     Feb    Mar  year  \n",
       "1  Texas      38365.0  95000.0   45000  35000  2006  \n",
       "2   Iowa      76517.0      NaN  120000  35000  2007  "
      ]
     },
     "execution_count": 16,
     "metadata": {},
     "output_type": "execute_result"
    }
   ],
   "source": [
    "data[data.id >=  320563]"
   ]
  },
  {
   "cell_type": "markdown",
   "metadata": {},
   "source": [
    "当然也可以通过ix来索引特定的行，特定的列或特定的行和列。"
   ]
  },
  {
   "cell_type": "code",
   "execution_count": 17,
   "metadata": {
    "collapsed": false
   },
   "outputs": [
    {
     "data": {
      "text/html": [
       "<div>\n",
       "<table border=\"1\" class=\"dataframe\">\n",
       "  <thead>\n",
       "    <tr style=\"text-align: right;\">\n",
       "      <th></th>\n",
       "      <th>id</th>\n",
       "      <th>name</th>\n",
       "      <th>street</th>\n",
       "    </tr>\n",
       "  </thead>\n",
       "  <tbody>\n",
       "    <tr>\n",
       "      <th>1</th>\n",
       "      <td>320563</td>\n",
       "      <td>Walter</td>\n",
       "      <td>1311 Alvis Tunnel</td>\n",
       "    </tr>\n",
       "    <tr>\n",
       "      <th>2</th>\n",
       "      <td>648336</td>\n",
       "      <td>Bashirian</td>\n",
       "      <td>62184 Schamberger Underpass Apt. 231</td>\n",
       "    </tr>\n",
       "    <tr>\n",
       "      <th>3</th>\n",
       "      <td>109996</td>\n",
       "      <td>Bode</td>\n",
       "      <td>155 Fadel Crescent Apt. 144</td>\n",
       "    </tr>\n",
       "  </tbody>\n",
       "</table>\n",
       "</div>"
      ],
      "text/plain": [
       "       id       name                                street\n",
       "1  320563     Walter                     1311 Alvis Tunnel\n",
       "2  648336  Bashirian  62184 Schamberger Underpass Apt. 231\n",
       "3  109996       Bode           155 Fadel Crescent Apt. 144"
      ]
     },
     "execution_count": 17,
     "metadata": {},
     "output_type": "execute_result"
    }
   ],
   "source": [
    "data.ix[1:3,['id','name','street']] # 选择1-3行的id、name和street列"
   ]
  },
  {
   "cell_type": "markdown",
   "metadata": {},
   "source": [
    "xs方法可以通过传入的key来得到一个单行或单列到Series"
   ]
  },
  {
   "cell_type": "code",
   "execution_count": 18,
   "metadata": {
    "collapsed": false
   },
   "outputs": [
    {
     "data": {
      "text/plain": [
       "id                                           648336\n",
       "name                                      Bashirian\n",
       "street         62184 Schamberger Underpass Apt. 231\n",
       "city                                 New Lilianland\n",
       "state                                          Iowa\n",
       "postal-code                                   76517\n",
       "Jan                                             NaN\n",
       "Feb                                          120000\n",
       "Mar                                           35000\n",
       "year                                           2007\n",
       "Name: 2, dtype: object"
      ]
     },
     "execution_count": 18,
     "metadata": {},
     "output_type": "execute_result"
    }
   ],
   "source": [
    "data.xs(2) # 得到索引为2的这一行"
   ]
  },
  {
   "cell_type": "code",
   "execution_count": 19,
   "metadata": {
    "collapsed": false
   },
   "outputs": [
    {
     "data": {
      "text/plain": [
       "0    211829\n",
       "1    320563\n",
       "2    648336\n",
       "3    109996\n",
       "4    121213\n",
       "Name: id, dtype: int64"
      ]
     },
     "execution_count": 19,
     "metadata": {},
     "output_type": "execute_result"
    }
   ],
   "source": [
    "data.xs('id',axis=1) # 得到id这一列"
   ]
  }
 ],
 "metadata": {
  "kernelspec": {
   "display_name": "Python 2",
   "language": "python",
   "name": "python2"
  },
  "language_info": {
   "codemirror_mode": {
    "name": "ipython",
    "version": 2
   },
   "file_extension": ".py",
   "mimetype": "text/x-python",
   "name": "python",
   "nbconvert_exporter": "python",
   "pygments_lexer": "ipython2",
   "version": "2.7.11"
  }
 },
 "nbformat": 4,
 "nbformat_minor": 0
}
