{
 "cells": [
  {
   "cell_type": "markdown",
   "metadata": {},
   "source": [
    "<b>Pandas之常用统计方法</b>"
   ]
  },
  {
   "cell_type": "code",
   "execution_count": 1,
   "metadata": {
    "collapsed": true
   },
   "outputs": [],
   "source": [
    "import pandas as pd"
   ]
  },
  {
   "cell_type": "code",
   "execution_count": 2,
   "metadata": {
    "collapsed": false
   },
   "outputs": [
    {
     "data": {
      "text/html": [
       "<div>\n",
       "<table border=\"1\" class=\"dataframe\">\n",
       "  <thead>\n",
       "    <tr style=\"text-align: right;\">\n",
       "      <th></th>\n",
       "      <th>id</th>\n",
       "      <th>name</th>\n",
       "      <th>street</th>\n",
       "      <th>city</th>\n",
       "      <th>state</th>\n",
       "      <th>postal-code</th>\n",
       "      <th>Jan</th>\n",
       "      <th>Feb</th>\n",
       "      <th>Mar</th>\n",
       "      <th>year</th>\n",
       "    </tr>\n",
       "  </thead>\n",
       "  <tbody>\n",
       "    <tr>\n",
       "      <th>0</th>\n",
       "      <td>211829</td>\n",
       "      <td>Kerluke</td>\n",
       "      <td>34456 Sean Highway</td>\n",
       "      <td>New Jaycob</td>\n",
       "      <td>Texas</td>\n",
       "      <td>28752.0</td>\n",
       "      <td>10000.0</td>\n",
       "      <td>62000</td>\n",
       "      <td>35000</td>\n",
       "      <td>2006</td>\n",
       "    </tr>\n",
       "    <tr>\n",
       "      <th>1</th>\n",
       "      <td>320563</td>\n",
       "      <td>Walter</td>\n",
       "      <td>1311 Alvis Tunnel</td>\n",
       "      <td>Hyattburgh</td>\n",
       "      <td>Texas</td>\n",
       "      <td>38365.0</td>\n",
       "      <td>95000.0</td>\n",
       "      <td>45000</td>\n",
       "      <td>35000</td>\n",
       "      <td>2006</td>\n",
       "    </tr>\n",
       "    <tr>\n",
       "      <th>2</th>\n",
       "      <td>648336</td>\n",
       "      <td>Bashirian</td>\n",
       "      <td>62184 Schamberger Underpass Apt. 231</td>\n",
       "      <td>New Lilianland</td>\n",
       "      <td>Iowa</td>\n",
       "      <td>76517.0</td>\n",
       "      <td>NaN</td>\n",
       "      <td>120000</td>\n",
       "      <td>35000</td>\n",
       "      <td>2007</td>\n",
       "    </tr>\n",
       "    <tr>\n",
       "      <th>3</th>\n",
       "      <td>109996</td>\n",
       "      <td>Bode</td>\n",
       "      <td>155 Fadel Crescent Apt. 144</td>\n",
       "      <td>Hyattburgh</td>\n",
       "      <td>Texas</td>\n",
       "      <td>NaN</td>\n",
       "      <td>45000.0</td>\n",
       "      <td>120000</td>\n",
       "      <td>10000</td>\n",
       "      <td>2007</td>\n",
       "    </tr>\n",
       "    <tr>\n",
       "      <th>4</th>\n",
       "      <td>121213</td>\n",
       "      <td>Bauch</td>\n",
       "      <td>7274 Marissa Common</td>\n",
       "      <td>Shanahanchester</td>\n",
       "      <td>Iowa</td>\n",
       "      <td>49681.0</td>\n",
       "      <td>162000.0</td>\n",
       "      <td>120000</td>\n",
       "      <td>35000</td>\n",
       "      <td>2008</td>\n",
       "    </tr>\n",
       "  </tbody>\n",
       "</table>\n",
       "</div>"
      ],
      "text/plain": [
       "       id       name                                street             city  \\\n",
       "0  211829    Kerluke                    34456 Sean Highway       New Jaycob   \n",
       "1  320563     Walter                     1311 Alvis Tunnel       Hyattburgh   \n",
       "2  648336  Bashirian  62184 Schamberger Underpass Apt. 231   New Lilianland   \n",
       "3  109996       Bode           155 Fadel Crescent Apt. 144       Hyattburgh   \n",
       "4  121213      Bauch                   7274 Marissa Common  Shanahanchester   \n",
       "\n",
       "   state  postal-code       Jan     Feb    Mar  year  \n",
       "0  Texas      28752.0   10000.0   62000  35000  2006  \n",
       "1  Texas      38365.0   95000.0   45000  35000  2006  \n",
       "2   Iowa      76517.0       NaN  120000  35000  2007  \n",
       "3  Texas          NaN   45000.0  120000  10000  2007  \n",
       "4   Iowa      49681.0  162000.0  120000  35000  2008  "
      ]
     },
     "execution_count": 2,
     "metadata": {},
     "output_type": "execute_result"
    }
   ],
   "source": [
    "data = pd.read_excel('excel-comp-data.xlsx',encoding='gbk')\n",
    "data"
   ]
  },
  {
   "cell_type": "markdown",
   "metadata": {},
   "source": [
    "常用的一些方法：  \n",
    "\n",
    "| 方法名        | 解释        |\n",
    "| -------------   |:-------------:|\n",
    "| count    | 非 NA 值的数量     |\n",
    "| describe  | 针对 Series 或 DF 的列计算汇总统计|\n",
    "| min , max | 最小值和最大值     |\n",
    "| argmin , argmax | 最小值和最大值的索引位置（整数）|\n",
    "| idxmin , idxmax | 最小值和最大值的索引值     |\n",
    "| quantile  | 样本分位数（0 到 1）     |\n",
    "| sum     | 求和            |\n",
    "| mean     | 均值           |\n",
    "| median   | 中位数           |\n",
    "| mad     | 根据均值计算平均绝对离差     |\n",
    "| var     | 方差     |\n",
    "| std     | 标准差     |\n",
    "| skew    | 样本值的偏度（三阶矩）     |\n",
    "|kurt\t   |样本值的峰度（四阶矩）\n",
    "|cumsum\t   |样本值的累计和|\n",
    "|cummin , cummax|\t样本值的累计最大值和累计最小值|\n",
    "|cumprod\t|样本值的累计积|\n",
    "|diff\t|计算一阶差分（对时间序列很有用）|\n",
    "|pct_change|\t计算百分数变化|"
   ]
  },
  {
   "cell_type": "code",
   "execution_count": 3,
   "metadata": {
    "collapsed": false
   },
   "outputs": [
    {
     "data": {
      "text/html": [
       "<div>\n",
       "<table border=\"1\" class=\"dataframe\">\n",
       "  <thead>\n",
       "    <tr style=\"text-align: right;\">\n",
       "      <th></th>\n",
       "      <th>id</th>\n",
       "      <th>postal-code</th>\n",
       "      <th>Jan</th>\n",
       "      <th>Feb</th>\n",
       "      <th>Mar</th>\n",
       "      <th>year</th>\n",
       "    </tr>\n",
       "  </thead>\n",
       "  <tbody>\n",
       "    <tr>\n",
       "      <th>count</th>\n",
       "      <td>5.000000</td>\n",
       "      <td>4.000000</td>\n",
       "      <td>4.000000</td>\n",
       "      <td>5.00000</td>\n",
       "      <td>5.000000</td>\n",
       "      <td>5.00000</td>\n",
       "    </tr>\n",
       "    <tr>\n",
       "      <th>mean</th>\n",
       "      <td>282387.400000</td>\n",
       "      <td>48328.750000</td>\n",
       "      <td>78000.000000</td>\n",
       "      <td>93400.00000</td>\n",
       "      <td>30000.000000</td>\n",
       "      <td>2006.80000</td>\n",
       "    </tr>\n",
       "    <tr>\n",
       "      <th>std</th>\n",
       "      <td>221387.795563</td>\n",
       "      <td>20647.287738</td>\n",
       "      <td>65974.742642</td>\n",
       "      <td>36916.12114</td>\n",
       "      <td>11180.339887</td>\n",
       "      <td>0.83666</td>\n",
       "    </tr>\n",
       "    <tr>\n",
       "      <th>min</th>\n",
       "      <td>109996.000000</td>\n",
       "      <td>28752.000000</td>\n",
       "      <td>10000.000000</td>\n",
       "      <td>45000.00000</td>\n",
       "      <td>10000.000000</td>\n",
       "      <td>2006.00000</td>\n",
       "    </tr>\n",
       "    <tr>\n",
       "      <th>25%</th>\n",
       "      <td>121213.000000</td>\n",
       "      <td>35961.750000</td>\n",
       "      <td>36250.000000</td>\n",
       "      <td>62000.00000</td>\n",
       "      <td>35000.000000</td>\n",
       "      <td>2006.00000</td>\n",
       "    </tr>\n",
       "    <tr>\n",
       "      <th>50%</th>\n",
       "      <td>211829.000000</td>\n",
       "      <td>44023.000000</td>\n",
       "      <td>70000.000000</td>\n",
       "      <td>120000.00000</td>\n",
       "      <td>35000.000000</td>\n",
       "      <td>2007.00000</td>\n",
       "    </tr>\n",
       "    <tr>\n",
       "      <th>75%</th>\n",
       "      <td>320563.000000</td>\n",
       "      <td>56390.000000</td>\n",
       "      <td>111750.000000</td>\n",
       "      <td>120000.00000</td>\n",
       "      <td>35000.000000</td>\n",
       "      <td>2007.00000</td>\n",
       "    </tr>\n",
       "    <tr>\n",
       "      <th>max</th>\n",
       "      <td>648336.000000</td>\n",
       "      <td>76517.000000</td>\n",
       "      <td>162000.000000</td>\n",
       "      <td>120000.00000</td>\n",
       "      <td>35000.000000</td>\n",
       "      <td>2008.00000</td>\n",
       "    </tr>\n",
       "  </tbody>\n",
       "</table>\n",
       "</div>"
      ],
      "text/plain": [
       "                  id   postal-code            Jan           Feb           Mar  \\\n",
       "count       5.000000      4.000000       4.000000       5.00000      5.000000   \n",
       "mean   282387.400000  48328.750000   78000.000000   93400.00000  30000.000000   \n",
       "std    221387.795563  20647.287738   65974.742642   36916.12114  11180.339887   \n",
       "min    109996.000000  28752.000000   10000.000000   45000.00000  10000.000000   \n",
       "25%    121213.000000  35961.750000   36250.000000   62000.00000  35000.000000   \n",
       "50%    211829.000000  44023.000000   70000.000000  120000.00000  35000.000000   \n",
       "75%    320563.000000  56390.000000  111750.000000  120000.00000  35000.000000   \n",
       "max    648336.000000  76517.000000  162000.000000  120000.00000  35000.000000   \n",
       "\n",
       "             year  \n",
       "count     5.00000  \n",
       "mean   2006.80000  \n",
       "std       0.83666  \n",
       "min    2006.00000  \n",
       "25%    2006.00000  \n",
       "50%    2007.00000  \n",
       "75%    2007.00000  \n",
       "max    2008.00000  "
      ]
     },
     "execution_count": 3,
     "metadata": {},
     "output_type": "execute_result"
    }
   ],
   "source": [
    "data.describe()"
   ]
  },
  {
   "cell_type": "code",
   "execution_count": 4,
   "metadata": {
    "collapsed": false
   },
   "outputs": [
    {
     "data": {
      "text/plain": [
       "id                                                       1411937\n",
       "name                             KerlukeWalterBashirianBodeBauch\n",
       "street         34456 Sean Highway1311 Alvis Tunnel62184 Scham...\n",
       "city           New JaycobHyattburghNew LilianlandHyattburghSh...\n",
       "state                                    TexasTexasIowaTexasIowa\n",
       "postal-code                                               193315\n",
       "Jan                                                       312000\n",
       "Feb                                                       467000\n",
       "Mar                                                       150000\n",
       "year                                                       10034\n",
       "dtype: object"
      ]
     },
     "execution_count": 4,
     "metadata": {},
     "output_type": "execute_result"
    }
   ],
   "source": [
    "data.sum()"
   ]
  },
  {
   "cell_type": "code",
   "execution_count": 5,
   "metadata": {
    "collapsed": false
   },
   "outputs": [
    {
     "data": {
      "text/plain": [
       "id             282387.40\n",
       "postal-code     48328.75\n",
       "Jan             78000.00\n",
       "Feb             93400.00\n",
       "Mar             30000.00\n",
       "year             2006.80\n",
       "dtype: float64"
      ]
     },
     "execution_count": 5,
     "metadata": {},
     "output_type": "execute_result"
    }
   ],
   "source": [
    "data.mean()"
   ]
  },
  {
   "cell_type": "markdown",
   "metadata": {},
   "source": [
    "<b>协方差和相关系数</b>"
   ]
  },
  {
   "cell_type": "markdown",
   "metadata": {},
   "source": [
    "Series和DataFrame都有cov方法，用于计算两个序列的协方差，Series的cov方法的的参数有两个，other表示要传入的另一个Series，min_periods表示样本量的下限，低于此值的不进行运算。DataFrame的cov方法只有一个参数min_periods，DataFrame 的这两个方法会对列进行两两运算。"
   ]
  },
  {
   "cell_type": "code",
   "execution_count": 6,
   "metadata": {
    "collapsed": false
   },
   "outputs": [
    {
     "data": {
      "text/plain": [
       "-32197.900000000001"
      ]
     },
     "execution_count": 6,
     "metadata": {},
     "output_type": "execute_result"
    }
   ],
   "source": [
    "data.id.cov(data.year)"
   ]
  },
  {
   "cell_type": "code",
   "execution_count": 7,
   "metadata": {
    "collapsed": false
   },
   "outputs": [
    {
     "data": {
      "text/html": [
       "<div>\n",
       "<table border=\"1\" class=\"dataframe\">\n",
       "  <thead>\n",
       "    <tr style=\"text-align: right;\">\n",
       "      <th></th>\n",
       "      <th>id</th>\n",
       "      <th>postal-code</th>\n",
       "      <th>Jan</th>\n",
       "      <th>Feb</th>\n",
       "      <th>Mar</th>\n",
       "      <th>year</th>\n",
       "    </tr>\n",
       "  </thead>\n",
       "  <tbody>\n",
       "    <tr>\n",
       "      <th>id</th>\n",
       "      <td>4.901256e+10</td>\n",
       "      <td>3.699478e+09</td>\n",
       "      <td>-8.009257e+08</td>\n",
       "      <td>3.073043e+08</td>\n",
       "      <td>1.077446e+09</td>\n",
       "      <td>-32197.900000</td>\n",
       "    </tr>\n",
       "    <tr>\n",
       "      <th>postal-code</th>\n",
       "      <td>3.699478e+09</td>\n",
       "      <td>4.263105e+08</td>\n",
       "      <td>7.927475e+08</td>\n",
       "      <td>6.275776e+08</td>\n",
       "      <td>0.000000e+00</td>\n",
       "      <td>10297.583333</td>\n",
       "    </tr>\n",
       "    <tr>\n",
       "      <th>Jan</th>\n",
       "      <td>-8.009257e+08</td>\n",
       "      <td>7.927475e+08</td>\n",
       "      <td>4.352667e+09</td>\n",
       "      <td>8.896667e+08</td>\n",
       "      <td>2.750000e+08</td>\n",
       "      <td>45000.000000</td>\n",
       "    </tr>\n",
       "    <tr>\n",
       "      <th>Feb</th>\n",
       "      <td>3.073043e+08</td>\n",
       "      <td>6.275776e+08</td>\n",
       "      <td>8.896667e+08</td>\n",
       "      <td>1.362800e+09</td>\n",
       "      <td>-1.662500e+08</td>\n",
       "      <td>26600.000000</td>\n",
       "    </tr>\n",
       "    <tr>\n",
       "      <th>Mar</th>\n",
       "      <td>1.077446e+09</td>\n",
       "      <td>0.000000e+00</td>\n",
       "      <td>2.750000e+08</td>\n",
       "      <td>-1.662500e+08</td>\n",
       "      <td>1.250000e+08</td>\n",
       "      <td>-1250.000000</td>\n",
       "    </tr>\n",
       "    <tr>\n",
       "      <th>year</th>\n",
       "      <td>-3.219790e+04</td>\n",
       "      <td>1.029758e+04</td>\n",
       "      <td>4.500000e+04</td>\n",
       "      <td>2.660000e+04</td>\n",
       "      <td>-1.250000e+03</td>\n",
       "      <td>0.700000</td>\n",
       "    </tr>\n",
       "  </tbody>\n",
       "</table>\n",
       "</div>"
      ],
      "text/plain": [
       "                       id   postal-code           Jan           Feb  \\\n",
       "id           4.901256e+10  3.699478e+09 -8.009257e+08  3.073043e+08   \n",
       "postal-code  3.699478e+09  4.263105e+08  7.927475e+08  6.275776e+08   \n",
       "Jan         -8.009257e+08  7.927475e+08  4.352667e+09  8.896667e+08   \n",
       "Feb          3.073043e+08  6.275776e+08  8.896667e+08  1.362800e+09   \n",
       "Mar          1.077446e+09  0.000000e+00  2.750000e+08 -1.662500e+08   \n",
       "year        -3.219790e+04  1.029758e+04  4.500000e+04  2.660000e+04   \n",
       "\n",
       "                      Mar          year  \n",
       "id           1.077446e+09 -32197.900000  \n",
       "postal-code  0.000000e+00  10297.583333  \n",
       "Jan          2.750000e+08  45000.000000  \n",
       "Feb         -1.662500e+08  26600.000000  \n",
       "Mar          1.250000e+08  -1250.000000  \n",
       "year        -1.250000e+03      0.700000  "
      ]
     },
     "execution_count": 7,
     "metadata": {},
     "output_type": "execute_result"
    }
   ],
   "source": [
    "data.cov()"
   ]
  },
  {
   "cell_type": "markdown",
   "metadata": {},
   "source": [
    "对比下计算结果，发现两个计算结果是一样的。"
   ]
  },
  {
   "cell_type": "markdown",
   "metadata": {},
   "source": [
    "corr方法用于计算两个序列的相关系数，method方法指定计算的相关系数类型，默认为pearson。"
   ]
  },
  {
   "cell_type": "code",
   "execution_count": 8,
   "metadata": {
    "collapsed": false
   },
   "outputs": [
    {
     "data": {
      "text/plain": [
       "-0.17383004850199554"
      ]
     },
     "execution_count": 8,
     "metadata": {},
     "output_type": "execute_result"
    }
   ],
   "source": [
    "data.id.corr(data.year)"
   ]
  },
  {
   "cell_type": "code",
   "execution_count": 9,
   "metadata": {
    "collapsed": false
   },
   "outputs": [
    {
     "data": {
      "text/html": [
       "<div>\n",
       "<table border=\"1\" class=\"dataframe\">\n",
       "  <thead>\n",
       "    <tr style=\"text-align: right;\">\n",
       "      <th></th>\n",
       "      <th>id</th>\n",
       "      <th>postal-code</th>\n",
       "      <th>Jan</th>\n",
       "      <th>Feb</th>\n",
       "      <th>Mar</th>\n",
       "      <th>year</th>\n",
       "    </tr>\n",
       "  </thead>\n",
       "  <tbody>\n",
       "    <tr>\n",
       "      <th>id</th>\n",
       "      <td>1.000000</td>\n",
       "      <td>0.778527</td>\n",
       "      <td>-0.124221</td>\n",
       "      <td>0.037601</td>\n",
       "      <td>0.435298</td>\n",
       "      <td>-0.173830</td>\n",
       "    </tr>\n",
       "    <tr>\n",
       "      <th>postal-code</th>\n",
       "      <td>0.778527</td>\n",
       "      <td>1.000000</td>\n",
       "      <td>0.993371</td>\n",
       "      <td>0.779043</td>\n",
       "      <td>NaN</td>\n",
       "      <td>0.520915</td>\n",
       "    </tr>\n",
       "    <tr>\n",
       "      <th>Jan</th>\n",
       "      <td>-0.124221</td>\n",
       "      <td>0.993371</td>\n",
       "      <td>1.000000</td>\n",
       "      <td>0.345626</td>\n",
       "      <td>0.333461</td>\n",
       "      <td>0.712408</td>\n",
       "    </tr>\n",
       "    <tr>\n",
       "      <th>Feb</th>\n",
       "      <td>0.037601</td>\n",
       "      <td>0.779043</td>\n",
       "      <td>0.345626</td>\n",
       "      <td>1.000000</td>\n",
       "      <td>-0.402801</td>\n",
       "      <td>0.861225</td>\n",
       "    </tr>\n",
       "    <tr>\n",
       "      <th>Mar</th>\n",
       "      <td>0.435298</td>\n",
       "      <td>NaN</td>\n",
       "      <td>0.333461</td>\n",
       "      <td>-0.402801</td>\n",
       "      <td>1.000000</td>\n",
       "      <td>-0.133631</td>\n",
       "    </tr>\n",
       "    <tr>\n",
       "      <th>year</th>\n",
       "      <td>-0.173830</td>\n",
       "      <td>0.520915</td>\n",
       "      <td>0.712408</td>\n",
       "      <td>0.861225</td>\n",
       "      <td>-0.133631</td>\n",
       "      <td>1.000000</td>\n",
       "    </tr>\n",
       "  </tbody>\n",
       "</table>\n",
       "</div>"
      ],
      "text/plain": [
       "                   id  postal-code       Jan       Feb       Mar      year\n",
       "id           1.000000     0.778527 -0.124221  0.037601  0.435298 -0.173830\n",
       "postal-code  0.778527     1.000000  0.993371  0.779043       NaN  0.520915\n",
       "Jan         -0.124221     0.993371  1.000000  0.345626  0.333461  0.712408\n",
       "Feb          0.037601     0.779043  0.345626  1.000000 -0.402801  0.861225\n",
       "Mar          0.435298          NaN  0.333461 -0.402801  1.000000 -0.133631\n",
       "year        -0.173830     0.520915  0.712408  0.861225 -0.133631  1.000000"
      ]
     },
     "execution_count": 9,
     "metadata": {},
     "output_type": "execute_result"
    }
   ],
   "source": [
    "data.corr()"
   ]
  }
 ],
 "metadata": {
  "kernelspec": {
   "display_name": "Python 2",
   "language": "python",
   "name": "python2"
  },
  "language_info": {
   "codemirror_mode": {
    "name": "ipython",
    "version": 2
   },
   "file_extension": ".py",
   "mimetype": "text/x-python",
   "name": "python",
   "nbconvert_exporter": "python",
   "pygments_lexer": "ipython2",
   "version": "2.7.11"
  }
 },
 "nbformat": 4,
 "nbformat_minor": 0
}
