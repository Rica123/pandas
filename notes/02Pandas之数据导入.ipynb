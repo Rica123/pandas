{
 "cells": [
  {
   "cell_type": "markdown",
   "metadata": {},
   "source": [
    "<b>Pandas之数据导入、导出</b>"
   ]
  },
  {
   "cell_type": "markdown",
   "metadata": {},
   "source": [
    "Pandas封装一些方法，用于将不同格式的列表数据转换为DataFrame。同时也可以将DataFrame存为文件。本文以读取csv文件和excel文件为例来说明下一些常用的方法。"
   ]
  },
  {
   "cell_type": "markdown",
   "metadata": {},
   "source": [
    "<b>数据导入</b>"
   ]
  },
  {
   "cell_type": "markdown",
   "metadata": {},
   "source": [
    "<b>1. 读取csv文件</b>"
   ]
  },
  {
   "cell_type": "code",
   "execution_count": 1,
   "metadata": {
    "collapsed": false
   },
   "outputs": [
    {
     "name": "stdout",
     "output_type": "stream",
     "text": [
      "hits_referer,频道,关键词代码,关键字,详情页直达链接次数\n",
      "http://search.smzdm.com/?c,home,%E7%89%9B%E5%A5%B6,牛奶,772\n",
      "http://search.smzdm.com/?c,home,%E5%95%A4%E9%85%92,啤酒,712\n",
      "http://search.smzdm.com/?c,home,%E6%89%8B%E6%9C%BA,手机,684\n",
      "http://search.smzdm.com/?c,home,%E7%A9%BA%E8%B0%83,空调,663\n",
      "http://search.smzdm.com/?c,home,%E7%AC%94%E8%AE%B0%E6%9C%AC,笔记本,571\n",
      "http://search.smzdm.com/?c,home,%E6%98%BE%E7%A4%BA%E5%99%A8,显示器,-1\n"
     ]
    }
   ],
   "source": [
    "!type data.csv "
   ]
  },
  {
   "cell_type": "code",
   "execution_count": 2,
   "metadata": {
    "collapsed": true
   },
   "outputs": [],
   "source": [
    "import pandas as pd"
   ]
  },
  {
   "cell_type": "markdown",
   "metadata": {},
   "source": [
    "使用read_csv方法将csv文件读取到DataFrame中。"
   ]
  },
  {
   "cell_type": "code",
   "execution_count": 3,
   "metadata": {
    "collapsed": false
   },
   "outputs": [
    {
     "data": {
      "text/html": [
       "<div>\n",
       "<table border=\"1\" class=\"dataframe\">\n",
       "  <thead>\n",
       "    <tr style=\"text-align: right;\">\n",
       "      <th></th>\n",
       "      <th>hits_referer</th>\n",
       "      <th>Ƶ��</th>\n",
       "      <th>�ؼ��ʴ���</th>\n",
       "      <th>�ؼ���</th>\n",
       "      <th>����ҳֱ�����Ӵ���</th>\n",
       "    </tr>\n",
       "  </thead>\n",
       "  <tbody>\n",
       "    <tr>\n",
       "      <th>0</th>\n",
       "      <td>http://search.smzdm.com/?c</td>\n",
       "      <td>home</td>\n",
       "      <td>%E7%89%9B%E5%A5%B6</td>\n",
       "      <td>ţ��</td>\n",
       "      <td>772</td>\n",
       "    </tr>\n",
       "    <tr>\n",
       "      <th>1</th>\n",
       "      <td>http://search.smzdm.com/?c</td>\n",
       "      <td>home</td>\n",
       "      <td>%E5%95%A4%E9%85%92</td>\n",
       "      <td>ơ��</td>\n",
       "      <td>712</td>\n",
       "    </tr>\n",
       "    <tr>\n",
       "      <th>2</th>\n",
       "      <td>http://search.smzdm.com/?c</td>\n",
       "      <td>home</td>\n",
       "      <td>%E6%89%8B%E6%9C%BA</td>\n",
       "      <td>�ֻ�</td>\n",
       "      <td>684</td>\n",
       "    </tr>\n",
       "    <tr>\n",
       "      <th>3</th>\n",
       "      <td>http://search.smzdm.com/?c</td>\n",
       "      <td>home</td>\n",
       "      <td>%E7%A9%BA%E8%B0%83</td>\n",
       "      <td>�յ�</td>\n",
       "      <td>663</td>\n",
       "    </tr>\n",
       "    <tr>\n",
       "      <th>4</th>\n",
       "      <td>http://search.smzdm.com/?c</td>\n",
       "      <td>home</td>\n",
       "      <td>%E7%AC%94%E8%AE%B0%E6%9C%AC</td>\n",
       "      <td>�ʼǱ�</td>\n",
       "      <td>571</td>\n",
       "    </tr>\n",
       "  </tbody>\n",
       "</table>\n",
       "</div>"
      ],
      "text/plain": [
       "                 hits_referer   Ƶ��                     �ؼ��ʴ��� �ؼ���  \\\n",
       "0  http://search.smzdm.com/?c  home           %E7%89%9B%E5%A5%B6   ţ��   \n",
       "1  http://search.smzdm.com/?c  home           %E5%95%A4%E9%85%92   ơ��   \n",
       "2  http://search.smzdm.com/?c  home           %E6%89%8B%E6%9C%BA   �ֻ�   \n",
       "3  http://search.smzdm.com/?c  home           %E7%A9%BA%E8%B0%83   �յ�   \n",
       "4  http://search.smzdm.com/?c  home  %E7%AC%94%E8%AE%B0%E6%9C%AC  �ʼǱ�   \n",
       "\n",
       "   ����ҳֱ�����Ӵ���  \n",
       "0              772  \n",
       "1              712  \n",
       "2              684  \n",
       "3              663  \n",
       "4              571  "
      ]
     },
     "execution_count": 3,
     "metadata": {},
     "output_type": "execute_result"
    }
   ],
   "source": [
    "data = pd.read_csv('data.csv')\n",
    "data.head()"
   ]
  },
  {
   "cell_type": "markdown",
   "metadata": {},
   "source": [
    "发现出现了一些乱码，这是因为Pandas读取data.csv文件时使用的编码和data.csv文件的编码不一致导致的，使用UltraEdit来查看下data.csv的编码，发现是'gbk'，所以这里需要指定读取时的编码为‘gbk’,即encoding=‘gbk’。read_csv方法是read_table的一个扩展方法，sep用来设置文件内容的字段之间的分隔符，默认sep=','，对于有多个空格作为分隔符的，可以用正则表达式将sep设为sep='\\s+'。"
   ]
  },
  {
   "cell_type": "code",
   "execution_count": 4,
   "metadata": {
    "collapsed": false
   },
   "outputs": [
    {
     "data": {
      "text/html": [
       "<div>\n",
       "<table border=\"1\" class=\"dataframe\">\n",
       "  <thead>\n",
       "    <tr style=\"text-align: right;\">\n",
       "      <th></th>\n",
       "      <th>hits_referer</th>\n",
       "      <th>频道</th>\n",
       "      <th>关键词代码</th>\n",
       "      <th>关键字</th>\n",
       "      <th>详情页直达链接次数</th>\n",
       "    </tr>\n",
       "  </thead>\n",
       "  <tbody>\n",
       "    <tr>\n",
       "      <th>0</th>\n",
       "      <td>http://search.smzdm.com/?c</td>\n",
       "      <td>home</td>\n",
       "      <td>%E7%89%9B%E5%A5%B6</td>\n",
       "      <td>牛奶</td>\n",
       "      <td>772</td>\n",
       "    </tr>\n",
       "    <tr>\n",
       "      <th>1</th>\n",
       "      <td>http://search.smzdm.com/?c</td>\n",
       "      <td>home</td>\n",
       "      <td>%E5%95%A4%E9%85%92</td>\n",
       "      <td>啤酒</td>\n",
       "      <td>712</td>\n",
       "    </tr>\n",
       "    <tr>\n",
       "      <th>2</th>\n",
       "      <td>http://search.smzdm.com/?c</td>\n",
       "      <td>home</td>\n",
       "      <td>%E6%89%8B%E6%9C%BA</td>\n",
       "      <td>手机</td>\n",
       "      <td>684</td>\n",
       "    </tr>\n",
       "    <tr>\n",
       "      <th>3</th>\n",
       "      <td>http://search.smzdm.com/?c</td>\n",
       "      <td>home</td>\n",
       "      <td>%E7%A9%BA%E8%B0%83</td>\n",
       "      <td>空调</td>\n",
       "      <td>663</td>\n",
       "    </tr>\n",
       "    <tr>\n",
       "      <th>4</th>\n",
       "      <td>http://search.smzdm.com/?c</td>\n",
       "      <td>home</td>\n",
       "      <td>%E7%AC%94%E8%AE%B0%E6%9C%AC</td>\n",
       "      <td>笔记本</td>\n",
       "      <td>571</td>\n",
       "    </tr>\n",
       "  </tbody>\n",
       "</table>\n",
       "</div>"
      ],
      "text/plain": [
       "                 hits_referer    频道                        关键词代码  关键字  \\\n",
       "0  http://search.smzdm.com/?c  home           %E7%89%9B%E5%A5%B6   牛奶   \n",
       "1  http://search.smzdm.com/?c  home           %E5%95%A4%E9%85%92   啤酒   \n",
       "2  http://search.smzdm.com/?c  home           %E6%89%8B%E6%9C%BA   手机   \n",
       "3  http://search.smzdm.com/?c  home           %E7%A9%BA%E8%B0%83   空调   \n",
       "4  http://search.smzdm.com/?c  home  %E7%AC%94%E8%AE%B0%E6%9C%AC  笔记本   \n",
       "\n",
       "   详情页直达链接次数  \n",
       "0        772  \n",
       "1        712  \n",
       "2        684  \n",
       "3        663  \n",
       "4        571  "
      ]
     },
     "execution_count": 4,
     "metadata": {},
     "output_type": "execute_result"
    }
   ],
   "source": [
    "data = pd.read_csv('data.csv',sep=',',encoding='gbk')\n",
    "data.head()"
   ]
  },
  {
   "cell_type": "markdown",
   "metadata": {},
   "source": [
    "可见“read_csv”方法自动地将文件的第一行设为列名，也可以通过指定像“header”、“names”、“index_col”等参数的数值来改变“read_csv”的默认设置。将header设置为None后，Pandas将不会使用文件的第一行作为列名，可以通过names自己指定列名（不指定将会自动使用整数序列）；将header设置为0，names也自己指定后，能够将读取到的数据的列名换为自己定义的列名。"
   ]
  },
  {
   "cell_type": "code",
   "execution_count": 5,
   "metadata": {
    "collapsed": false
   },
   "outputs": [
    {
     "data": {
      "text/html": [
       "<div>\n",
       "<table border=\"1\" class=\"dataframe\">\n",
       "  <thead>\n",
       "    <tr style=\"text-align: right;\">\n",
       "      <th></th>\n",
       "      <th>0</th>\n",
       "      <th>1</th>\n",
       "      <th>2</th>\n",
       "      <th>3</th>\n",
       "      <th>4</th>\n",
       "    </tr>\n",
       "  </thead>\n",
       "  <tbody>\n",
       "    <tr>\n",
       "      <th>0</th>\n",
       "      <td>hits_referer</td>\n",
       "      <td>频道</td>\n",
       "      <td>关键词代码</td>\n",
       "      <td>关键字</td>\n",
       "      <td>详情页直达链接次数</td>\n",
       "    </tr>\n",
       "    <tr>\n",
       "      <th>1</th>\n",
       "      <td>http://search.smzdm.com/?c</td>\n",
       "      <td>home</td>\n",
       "      <td>%E7%89%9B%E5%A5%B6</td>\n",
       "      <td>牛奶</td>\n",
       "      <td>772</td>\n",
       "    </tr>\n",
       "    <tr>\n",
       "      <th>2</th>\n",
       "      <td>http://search.smzdm.com/?c</td>\n",
       "      <td>home</td>\n",
       "      <td>%E5%95%A4%E9%85%92</td>\n",
       "      <td>啤酒</td>\n",
       "      <td>712</td>\n",
       "    </tr>\n",
       "    <tr>\n",
       "      <th>3</th>\n",
       "      <td>http://search.smzdm.com/?c</td>\n",
       "      <td>home</td>\n",
       "      <td>%E6%89%8B%E6%9C%BA</td>\n",
       "      <td>手机</td>\n",
       "      <td>684</td>\n",
       "    </tr>\n",
       "    <tr>\n",
       "      <th>4</th>\n",
       "      <td>http://search.smzdm.com/?c</td>\n",
       "      <td>home</td>\n",
       "      <td>%E7%A9%BA%E8%B0%83</td>\n",
       "      <td>空调</td>\n",
       "      <td>663</td>\n",
       "    </tr>\n",
       "  </tbody>\n",
       "</table>\n",
       "</div>"
      ],
      "text/plain": [
       "                            0     1                   2    3          4\n",
       "0                hits_referer    频道               关键词代码  关键字  详情页直达链接次数\n",
       "1  http://search.smzdm.com/?c  home  %E7%89%9B%E5%A5%B6   牛奶        772\n",
       "2  http://search.smzdm.com/?c  home  %E5%95%A4%E9%85%92   啤酒        712\n",
       "3  http://search.smzdm.com/?c  home  %E6%89%8B%E6%9C%BA   手机        684\n",
       "4  http://search.smzdm.com/?c  home  %E7%A9%BA%E8%B0%83   空调        663"
      ]
     },
     "execution_count": 5,
     "metadata": {},
     "output_type": "execute_result"
    }
   ],
   "source": [
    "pd.read_csv('data.csv',sep=',',header=None,encoding='gbk').head() # skip_blank_lines"
   ]
  },
  {
   "cell_type": "code",
   "execution_count": 6,
   "metadata": {
    "collapsed": false
   },
   "outputs": [
    {
     "data": {
      "text/html": [
       "<div>\n",
       "<table border=\"1\" class=\"dataframe\">\n",
       "  <thead>\n",
       "    <tr style=\"text-align: right;\">\n",
       "      <th></th>\n",
       "      <th>a</th>\n",
       "      <th>b</th>\n",
       "      <th>c</th>\n",
       "      <th>d</th>\n",
       "    </tr>\n",
       "  </thead>\n",
       "  <tbody>\n",
       "    <tr>\n",
       "      <th>hits_referer</th>\n",
       "      <td>频道</td>\n",
       "      <td>关键词代码</td>\n",
       "      <td>关键字</td>\n",
       "      <td>详情页直达链接次数</td>\n",
       "    </tr>\n",
       "    <tr>\n",
       "      <th>http://search.smzdm.com/?c</th>\n",
       "      <td>home</td>\n",
       "      <td>%E7%89%9B%E5%A5%B6</td>\n",
       "      <td>牛奶</td>\n",
       "      <td>772</td>\n",
       "    </tr>\n",
       "    <tr>\n",
       "      <th>http://search.smzdm.com/?c</th>\n",
       "      <td>home</td>\n",
       "      <td>%E5%95%A4%E9%85%92</td>\n",
       "      <td>啤酒</td>\n",
       "      <td>712</td>\n",
       "    </tr>\n",
       "    <tr>\n",
       "      <th>http://search.smzdm.com/?c</th>\n",
       "      <td>home</td>\n",
       "      <td>%E6%89%8B%E6%9C%BA</td>\n",
       "      <td>手机</td>\n",
       "      <td>684</td>\n",
       "    </tr>\n",
       "    <tr>\n",
       "      <th>http://search.smzdm.com/?c</th>\n",
       "      <td>home</td>\n",
       "      <td>%E7%A9%BA%E8%B0%83</td>\n",
       "      <td>空调</td>\n",
       "      <td>663</td>\n",
       "    </tr>\n",
       "  </tbody>\n",
       "</table>\n",
       "</div>"
      ],
      "text/plain": [
       "                               a                   b    c          d\n",
       "hits_referer                  频道               关键词代码  关键字  详情页直达链接次数\n",
       "http://search.smzdm.com/?c  home  %E7%89%9B%E5%A5%B6   牛奶        772\n",
       "http://search.smzdm.com/?c  home  %E5%95%A4%E9%85%92   啤酒        712\n",
       "http://search.smzdm.com/?c  home  %E6%89%8B%E6%9C%BA   手机        684\n",
       "http://search.smzdm.com/?c  home  %E7%A9%BA%E8%B0%83   空调        663"
      ]
     },
     "execution_count": 6,
     "metadata": {},
     "output_type": "execute_result"
    }
   ],
   "source": [
    "pd.read_csv('data.csv',sep=',',header=None,names=['a','b','c','d'],encoding='gbk').head()#skip_blank_lines"
   ]
  },
  {
   "cell_type": "code",
   "execution_count": 7,
   "metadata": {
    "collapsed": false
   },
   "outputs": [
    {
     "data": {
      "text/html": [
       "<div>\n",
       "<table border=\"1\" class=\"dataframe\">\n",
       "  <thead>\n",
       "    <tr style=\"text-align: right;\">\n",
       "      <th></th>\n",
       "      <th>hits_referer</th>\n",
       "      <th>频道</th>\n",
       "      <th>关键词代码</th>\n",
       "      <th>关键字</th>\n",
       "      <th>详情页直达链接次数</th>\n",
       "    </tr>\n",
       "  </thead>\n",
       "  <tbody>\n",
       "    <tr>\n",
       "      <th>0</th>\n",
       "      <td>http://search.smzdm.com/?c</td>\n",
       "      <td>home</td>\n",
       "      <td>%E7%89%9B%E5%A5%B6</td>\n",
       "      <td>牛奶</td>\n",
       "      <td>772</td>\n",
       "    </tr>\n",
       "    <tr>\n",
       "      <th>1</th>\n",
       "      <td>http://search.smzdm.com/?c</td>\n",
       "      <td>home</td>\n",
       "      <td>%E5%95%A4%E9%85%92</td>\n",
       "      <td>啤酒</td>\n",
       "      <td>712</td>\n",
       "    </tr>\n",
       "    <tr>\n",
       "      <th>2</th>\n",
       "      <td>http://search.smzdm.com/?c</td>\n",
       "      <td>home</td>\n",
       "      <td>%E6%89%8B%E6%9C%BA</td>\n",
       "      <td>手机</td>\n",
       "      <td>684</td>\n",
       "    </tr>\n",
       "    <tr>\n",
       "      <th>3</th>\n",
       "      <td>http://search.smzdm.com/?c</td>\n",
       "      <td>home</td>\n",
       "      <td>%E7%A9%BA%E8%B0%83</td>\n",
       "      <td>空调</td>\n",
       "      <td>663</td>\n",
       "    </tr>\n",
       "    <tr>\n",
       "      <th>4</th>\n",
       "      <td>http://search.smzdm.com/?c</td>\n",
       "      <td>home</td>\n",
       "      <td>%E7%AC%94%E8%AE%B0%E6%9C%AC</td>\n",
       "      <td>笔记本</td>\n",
       "      <td>571</td>\n",
       "    </tr>\n",
       "  </tbody>\n",
       "</table>\n",
       "</div>"
      ],
      "text/plain": [
       "                 hits_referer    频道                        关键词代码  关键字  \\\n",
       "0  http://search.smzdm.com/?c  home           %E7%89%9B%E5%A5%B6   牛奶   \n",
       "1  http://search.smzdm.com/?c  home           %E5%95%A4%E9%85%92   啤酒   \n",
       "2  http://search.smzdm.com/?c  home           %E6%89%8B%E6%9C%BA   手机   \n",
       "3  http://search.smzdm.com/?c  home           %E7%A9%BA%E8%B0%83   空调   \n",
       "4  http://search.smzdm.com/?c  home  %E7%AC%94%E8%AE%B0%E6%9C%AC  笔记本   \n",
       "\n",
       "   详情页直达链接次数  \n",
       "0        772  \n",
       "1        712  \n",
       "2        684  \n",
       "3        663  \n",
       "4        571  "
      ]
     },
     "execution_count": 7,
     "metadata": {},
     "output_type": "execute_result"
    }
   ],
   "source": [
    "pd.read_csv('data.csv',sep=',',header=0,encoding='gbk').head()"
   ]
  },
  {
   "cell_type": "markdown",
   "metadata": {},
   "source": [
    "层次化索引（hierarchical indexing）：如果根据某两列数据可以作为数据框的唯一索引，我们为了得到更加有价值的索引，就可以对‘频道’和‘关键字’两列进行设定（将两列联合设定为索引列）。"
   ]
  },
  {
   "cell_type": "code",
   "execution_count": 8,
   "metadata": {
    "collapsed": false
   },
   "outputs": [
    {
     "data": {
      "text/html": [
       "<div>\n",
       "<table border=\"1\" class=\"dataframe\">\n",
       "  <thead>\n",
       "    <tr style=\"text-align: right;\">\n",
       "      <th></th>\n",
       "      <th></th>\n",
       "      <th>hits_referer</th>\n",
       "      <th>关键词代码</th>\n",
       "      <th>详情页直达链接次数</th>\n",
       "    </tr>\n",
       "    <tr>\n",
       "      <th>频道</th>\n",
       "      <th>关键字</th>\n",
       "      <th></th>\n",
       "      <th></th>\n",
       "      <th></th>\n",
       "    </tr>\n",
       "  </thead>\n",
       "  <tbody>\n",
       "    <tr>\n",
       "      <th rowspan=\"6\" valign=\"top\">home</th>\n",
       "      <th>牛奶</th>\n",
       "      <td>http://search.smzdm.com/?c</td>\n",
       "      <td>%E7%89%9B%E5%A5%B6</td>\n",
       "      <td>772</td>\n",
       "    </tr>\n",
       "    <tr>\n",
       "      <th>啤酒</th>\n",
       "      <td>http://search.smzdm.com/?c</td>\n",
       "      <td>%E5%95%A4%E9%85%92</td>\n",
       "      <td>712</td>\n",
       "    </tr>\n",
       "    <tr>\n",
       "      <th>手机</th>\n",
       "      <td>http://search.smzdm.com/?c</td>\n",
       "      <td>%E6%89%8B%E6%9C%BA</td>\n",
       "      <td>684</td>\n",
       "    </tr>\n",
       "    <tr>\n",
       "      <th>空调</th>\n",
       "      <td>http://search.smzdm.com/?c</td>\n",
       "      <td>%E7%A9%BA%E8%B0%83</td>\n",
       "      <td>663</td>\n",
       "    </tr>\n",
       "    <tr>\n",
       "      <th>笔记本</th>\n",
       "      <td>http://search.smzdm.com/?c</td>\n",
       "      <td>%E7%AC%94%E8%AE%B0%E6%9C%AC</td>\n",
       "      <td>571</td>\n",
       "    </tr>\n",
       "    <tr>\n",
       "      <th>显示器</th>\n",
       "      <td>http://search.smzdm.com/?c</td>\n",
       "      <td>%E6%98%BE%E7%A4%BA%E5%99%A8</td>\n",
       "      <td>-1</td>\n",
       "    </tr>\n",
       "  </tbody>\n",
       "</table>\n",
       "</div>"
      ],
      "text/plain": [
       "                        hits_referer                        关键词代码  详情页直达链接次数\n",
       "频道   关键字                                                                    \n",
       "home 牛奶   http://search.smzdm.com/?c           %E7%89%9B%E5%A5%B6        772\n",
       "     啤酒   http://search.smzdm.com/?c           %E5%95%A4%E9%85%92        712\n",
       "     手机   http://search.smzdm.com/?c           %E6%89%8B%E6%9C%BA        684\n",
       "     空调   http://search.smzdm.com/?c           %E7%A9%BA%E8%B0%83        663\n",
       "     笔记本  http://search.smzdm.com/?c  %E7%AC%94%E8%AE%B0%E6%9C%AC        571\n",
       "     显示器  http://search.smzdm.com/?c  %E6%98%BE%E7%A4%BA%E5%99%A8         -1"
      ]
     },
     "execution_count": 8,
     "metadata": {},
     "output_type": "execute_result"
    }
   ],
   "source": [
    "pd.read_csv('data.csv',sep=',',encoding='gbk',index_col=[u'频道',u'关键字',])"
   ]
  },
  {
   "cell_type": "markdown",
   "metadata": {},
   "source": [
    "如果只读取部分数据，可以使用nrows来设定读取的行数。"
   ]
  },
  {
   "cell_type": "code",
   "execution_count": 9,
   "metadata": {
    "collapsed": false
   },
   "outputs": [
    {
     "data": {
      "text/html": [
       "<div>\n",
       "<table border=\"1\" class=\"dataframe\">\n",
       "  <thead>\n",
       "    <tr style=\"text-align: right;\">\n",
       "      <th></th>\n",
       "      <th>hits_referer</th>\n",
       "      <th>频道</th>\n",
       "      <th>关键词代码</th>\n",
       "      <th>关键字</th>\n",
       "      <th>详情页直达链接次数</th>\n",
       "    </tr>\n",
       "  </thead>\n",
       "  <tbody>\n",
       "    <tr>\n",
       "      <th>0</th>\n",
       "      <td>http://search.smzdm.com/?c</td>\n",
       "      <td>home</td>\n",
       "      <td>%E7%89%9B%E5%A5%B6</td>\n",
       "      <td>牛奶</td>\n",
       "      <td>772</td>\n",
       "    </tr>\n",
       "    <tr>\n",
       "      <th>1</th>\n",
       "      <td>http://search.smzdm.com/?c</td>\n",
       "      <td>home</td>\n",
       "      <td>%E5%95%A4%E9%85%92</td>\n",
       "      <td>啤酒</td>\n",
       "      <td>712</td>\n",
       "    </tr>\n",
       "  </tbody>\n",
       "</table>\n",
       "</div>"
      ],
      "text/plain": [
       "                 hits_referer    频道               关键词代码 关键字  详情页直达链接次数\n",
       "0  http://search.smzdm.com/?c  home  %E7%89%9B%E5%A5%B6  牛奶        772\n",
       "1  http://search.smzdm.com/?c  home  %E5%95%A4%E9%85%92  啤酒        712"
      ]
     },
     "execution_count": 9,
     "metadata": {},
     "output_type": "execute_result"
    }
   ],
   "source": [
    "pd.read_csv('data.csv',encoding='gbk',nrows=2)"
   ]
  },
  {
   "cell_type": "markdown",
   "metadata": {},
   "source": [
    "如果不想读取某些行的数据，可以使用skiprows来忽略某些行。"
   ]
  },
  {
   "cell_type": "code",
   "execution_count": 10,
   "metadata": {
    "collapsed": false
   },
   "outputs": [
    {
     "data": {
      "text/html": [
       "<div>\n",
       "<table border=\"1\" class=\"dataframe\">\n",
       "  <thead>\n",
       "    <tr style=\"text-align: right;\">\n",
       "      <th></th>\n",
       "      <th>hits_referer</th>\n",
       "      <th>频道</th>\n",
       "      <th>关键词代码</th>\n",
       "      <th>关键字</th>\n",
       "      <th>详情页直达链接次数</th>\n",
       "    </tr>\n",
       "  </thead>\n",
       "  <tbody>\n",
       "    <tr>\n",
       "      <th>0</th>\n",
       "      <td>http://search.smzdm.com/?c</td>\n",
       "      <td>home</td>\n",
       "      <td>%E6%89%8B%E6%9C%BA</td>\n",
       "      <td>手机</td>\n",
       "      <td>684</td>\n",
       "    </tr>\n",
       "    <tr>\n",
       "      <th>1</th>\n",
       "      <td>http://search.smzdm.com/?c</td>\n",
       "      <td>home</td>\n",
       "      <td>%E7%A9%BA%E8%B0%83</td>\n",
       "      <td>空调</td>\n",
       "      <td>663</td>\n",
       "    </tr>\n",
       "    <tr>\n",
       "      <th>2</th>\n",
       "      <td>http://search.smzdm.com/?c</td>\n",
       "      <td>home</td>\n",
       "      <td>%E7%AC%94%E8%AE%B0%E6%9C%AC</td>\n",
       "      <td>笔记本</td>\n",
       "      <td>571</td>\n",
       "    </tr>\n",
       "    <tr>\n",
       "      <th>3</th>\n",
       "      <td>http://search.smzdm.com/?c</td>\n",
       "      <td>home</td>\n",
       "      <td>%E6%98%BE%E7%A4%BA%E5%99%A8</td>\n",
       "      <td>显示器</td>\n",
       "      <td>-1</td>\n",
       "    </tr>\n",
       "  </tbody>\n",
       "</table>\n",
       "</div>"
      ],
      "text/plain": [
       "                 hits_referer    频道                        关键词代码  关键字  \\\n",
       "0  http://search.smzdm.com/?c  home           %E6%89%8B%E6%9C%BA   手机   \n",
       "1  http://search.smzdm.com/?c  home           %E7%A9%BA%E8%B0%83   空调   \n",
       "2  http://search.smzdm.com/?c  home  %E7%AC%94%E8%AE%B0%E6%9C%AC  笔记本   \n",
       "3  http://search.smzdm.com/?c  home  %E6%98%BE%E7%A4%BA%E5%99%A8  显示器   \n",
       "\n",
       "   详情页直达链接次数  \n",
       "0        684  \n",
       "1        663  \n",
       "2        571  \n",
       "3         -1  "
      ]
     },
     "execution_count": 10,
     "metadata": {},
     "output_type": "execute_result"
    }
   ],
   "source": [
    "pd.read_csv('data.csv',encoding='gbk',skiprows=[1,2]) # 跳过第一行和第二行"
   ]
  },
  {
   "cell_type": "markdown",
   "metadata": {},
   "source": [
    "Pandas在读取文件时会自动检测缺失值，检测到后会将缺失值标记为NaN，如果读取大文件，并且知道该文件中没有空值，可以将na_filter设为False，这样读取文件时就不会检测缺失值，可以提高读取大文件时的性能。如果想要将特定的值也当做NaN，可以将该值加入na_values中。例如，“详情页直达链接次数”出现了-1，这不合逻辑，我们可以将-1当做NaN来处理。"
   ]
  },
  {
   "cell_type": "code",
   "execution_count": 11,
   "metadata": {
    "collapsed": false
   },
   "outputs": [
    {
     "data": {
      "text/html": [
       "<div>\n",
       "<table border=\"1\" class=\"dataframe\">\n",
       "  <thead>\n",
       "    <tr style=\"text-align: right;\">\n",
       "      <th></th>\n",
       "      <th>hits_referer</th>\n",
       "      <th>频道</th>\n",
       "      <th>关键词代码</th>\n",
       "      <th>关键字</th>\n",
       "      <th>详情页直达链接次数</th>\n",
       "    </tr>\n",
       "  </thead>\n",
       "  <tbody>\n",
       "    <tr>\n",
       "      <th>0</th>\n",
       "      <td>http://search.smzdm.com/?c</td>\n",
       "      <td>home</td>\n",
       "      <td>%E7%89%9B%E5%A5%B6</td>\n",
       "      <td>牛奶</td>\n",
       "      <td>772.0</td>\n",
       "    </tr>\n",
       "    <tr>\n",
       "      <th>1</th>\n",
       "      <td>http://search.smzdm.com/?c</td>\n",
       "      <td>home</td>\n",
       "      <td>%E5%95%A4%E9%85%92</td>\n",
       "      <td>啤酒</td>\n",
       "      <td>712.0</td>\n",
       "    </tr>\n",
       "    <tr>\n",
       "      <th>2</th>\n",
       "      <td>http://search.smzdm.com/?c</td>\n",
       "      <td>home</td>\n",
       "      <td>%E6%89%8B%E6%9C%BA</td>\n",
       "      <td>手机</td>\n",
       "      <td>684.0</td>\n",
       "    </tr>\n",
       "    <tr>\n",
       "      <th>3</th>\n",
       "      <td>http://search.smzdm.com/?c</td>\n",
       "      <td>home</td>\n",
       "      <td>%E7%A9%BA%E8%B0%83</td>\n",
       "      <td>空调</td>\n",
       "      <td>663.0</td>\n",
       "    </tr>\n",
       "    <tr>\n",
       "      <th>4</th>\n",
       "      <td>http://search.smzdm.com/?c</td>\n",
       "      <td>home</td>\n",
       "      <td>%E7%AC%94%E8%AE%B0%E6%9C%AC</td>\n",
       "      <td>笔记本</td>\n",
       "      <td>571.0</td>\n",
       "    </tr>\n",
       "    <tr>\n",
       "      <th>5</th>\n",
       "      <td>http://search.smzdm.com/?c</td>\n",
       "      <td>home</td>\n",
       "      <td>%E6%98%BE%E7%A4%BA%E5%99%A8</td>\n",
       "      <td>显示器</td>\n",
       "      <td>NaN</td>\n",
       "    </tr>\n",
       "  </tbody>\n",
       "</table>\n",
       "</div>"
      ],
      "text/plain": [
       "                 hits_referer    频道                        关键词代码  关键字  \\\n",
       "0  http://search.smzdm.com/?c  home           %E7%89%9B%E5%A5%B6   牛奶   \n",
       "1  http://search.smzdm.com/?c  home           %E5%95%A4%E9%85%92   啤酒   \n",
       "2  http://search.smzdm.com/?c  home           %E6%89%8B%E6%9C%BA   手机   \n",
       "3  http://search.smzdm.com/?c  home           %E7%A9%BA%E8%B0%83   空调   \n",
       "4  http://search.smzdm.com/?c  home  %E7%AC%94%E8%AE%B0%E6%9C%AC  笔记本   \n",
       "5  http://search.smzdm.com/?c  home  %E6%98%BE%E7%A4%BA%E5%99%A8  显示器   \n",
       "\n",
       "   详情页直达链接次数  \n",
       "0      772.0  \n",
       "1      712.0  \n",
       "2      684.0  \n",
       "3      663.0  \n",
       "4      571.0  \n",
       "5        NaN  "
      ]
     },
     "execution_count": 11,
     "metadata": {},
     "output_type": "execute_result"
    }
   ],
   "source": [
    "pd.read_csv('data.csv',encoding='gbk',na_values=[-1])"
   ]
  },
  {
   "cell_type": "markdown",
   "metadata": {},
   "source": [
    "可以使用Pandas的isnull方法来检测DataFrame中的NaN值，可以直接使用DataFrame的isnull方法。与isnull相反的是notnull。"
   ]
  },
  {
   "cell_type": "code",
   "execution_count": 12,
   "metadata": {
    "collapsed": false
   },
   "outputs": [
    {
     "data": {
      "text/html": [
       "<div>\n",
       "<table border=\"1\" class=\"dataframe\">\n",
       "  <thead>\n",
       "    <tr style=\"text-align: right;\">\n",
       "      <th></th>\n",
       "      <th>hits_referer</th>\n",
       "      <th>频道</th>\n",
       "      <th>关键词代码</th>\n",
       "      <th>关键字</th>\n",
       "      <th>详情页直达链接次数</th>\n",
       "    </tr>\n",
       "  </thead>\n",
       "  <tbody>\n",
       "    <tr>\n",
       "      <th>0</th>\n",
       "      <td>False</td>\n",
       "      <td>False</td>\n",
       "      <td>False</td>\n",
       "      <td>False</td>\n",
       "      <td>False</td>\n",
       "    </tr>\n",
       "    <tr>\n",
       "      <th>1</th>\n",
       "      <td>False</td>\n",
       "      <td>False</td>\n",
       "      <td>False</td>\n",
       "      <td>False</td>\n",
       "      <td>False</td>\n",
       "    </tr>\n",
       "    <tr>\n",
       "      <th>2</th>\n",
       "      <td>False</td>\n",
       "      <td>False</td>\n",
       "      <td>False</td>\n",
       "      <td>False</td>\n",
       "      <td>False</td>\n",
       "    </tr>\n",
       "    <tr>\n",
       "      <th>3</th>\n",
       "      <td>False</td>\n",
       "      <td>False</td>\n",
       "      <td>False</td>\n",
       "      <td>False</td>\n",
       "      <td>False</td>\n",
       "    </tr>\n",
       "    <tr>\n",
       "      <th>4</th>\n",
       "      <td>False</td>\n",
       "      <td>False</td>\n",
       "      <td>False</td>\n",
       "      <td>False</td>\n",
       "      <td>False</td>\n",
       "    </tr>\n",
       "    <tr>\n",
       "      <th>5</th>\n",
       "      <td>False</td>\n",
       "      <td>False</td>\n",
       "      <td>False</td>\n",
       "      <td>False</td>\n",
       "      <td>True</td>\n",
       "    </tr>\n",
       "  </tbody>\n",
       "</table>\n",
       "</div>"
      ],
      "text/plain": [
       "  hits_referer     频道  关键词代码    关键字 详情页直达链接次数\n",
       "0        False  False  False  False     False\n",
       "1        False  False  False  False     False\n",
       "2        False  False  False  False     False\n",
       "3        False  False  False  False     False\n",
       "4        False  False  False  False     False\n",
       "5        False  False  False  False      True"
      ]
     },
     "execution_count": 12,
     "metadata": {},
     "output_type": "execute_result"
    }
   ],
   "source": [
    "pd.isnull(pd.read_csv('data.csv', encoding='gbk',na_values=[-1]))"
   ]
  },
  {
   "cell_type": "code",
   "execution_count": 125,
   "metadata": {
    "collapsed": false
   },
   "outputs": [
    {
     "data": {
      "text/html": [
       "<div>\n",
       "<table border=\"1\" class=\"dataframe\">\n",
       "  <thead>\n",
       "    <tr style=\"text-align: right;\">\n",
       "      <th></th>\n",
       "      <th>hits_referer</th>\n",
       "      <th>频道</th>\n",
       "      <th>关键词代码</th>\n",
       "      <th>关键字</th>\n",
       "      <th>详情页直达链接次数</th>\n",
       "    </tr>\n",
       "  </thead>\n",
       "  <tbody>\n",
       "    <tr>\n",
       "      <th>0</th>\n",
       "      <td>False</td>\n",
       "      <td>False</td>\n",
       "      <td>False</td>\n",
       "      <td>False</td>\n",
       "      <td>False</td>\n",
       "    </tr>\n",
       "    <tr>\n",
       "      <th>1</th>\n",
       "      <td>False</td>\n",
       "      <td>False</td>\n",
       "      <td>False</td>\n",
       "      <td>False</td>\n",
       "      <td>False</td>\n",
       "    </tr>\n",
       "    <tr>\n",
       "      <th>2</th>\n",
       "      <td>False</td>\n",
       "      <td>False</td>\n",
       "      <td>False</td>\n",
       "      <td>False</td>\n",
       "      <td>False</td>\n",
       "    </tr>\n",
       "    <tr>\n",
       "      <th>3</th>\n",
       "      <td>False</td>\n",
       "      <td>False</td>\n",
       "      <td>False</td>\n",
       "      <td>False</td>\n",
       "      <td>False</td>\n",
       "    </tr>\n",
       "    <tr>\n",
       "      <th>4</th>\n",
       "      <td>False</td>\n",
       "      <td>False</td>\n",
       "      <td>False</td>\n",
       "      <td>False</td>\n",
       "      <td>False</td>\n",
       "    </tr>\n",
       "    <tr>\n",
       "      <th>5</th>\n",
       "      <td>False</td>\n",
       "      <td>False</td>\n",
       "      <td>False</td>\n",
       "      <td>False</td>\n",
       "      <td>True</td>\n",
       "    </tr>\n",
       "  </tbody>\n",
       "</table>\n",
       "</div>"
      ],
      "text/plain": [
       "  hits_referer     频道  关键词代码    关键字 详情页直达链接次数\n",
       "0        False  False  False  False     False\n",
       "1        False  False  False  False     False\n",
       "2        False  False  False  False     False\n",
       "3        False  False  False  False     False\n",
       "4        False  False  False  False     False\n",
       "5        False  False  False  False      True"
      ]
     },
     "execution_count": 125,
     "metadata": {},
     "output_type": "execute_result"
    }
   ],
   "source": [
    "pd.read_csv('data.csv', encoding='gbk',na_values=[-1]).isnull()"
   ]
  },
  {
   "cell_type": "markdown",
   "metadata": {},
   "source": [
    "使用Pandas读取大文件，可以将iterator设为true，或者将chunksize设为一个整数，都可以得到一个TextFileReader对象，该对象可以迭代。"
   ]
  },
  {
   "cell_type": "markdown",
   "metadata": {},
   "source": [
    "<b>2. 读取excel文件</b>"
   ]
  },
  {
   "cell_type": "markdown",
   "metadata": {},
   "source": [
    "学会了如何读取csv文件后，可以继续学习如何读取excel文件，Pandas封装了read_excel方法用来读取excel文件。其中有一个sheetname参数，默认为0，代表读取sheet1，当然了，也可以将sheetname设为字符串，表示读取sheet的名字。"
   ]
  },
  {
   "cell_type": "code",
   "execution_count": 13,
   "metadata": {
    "collapsed": false
   },
   "outputs": [
    {
     "data": {
      "text/html": [
       "<div>\n",
       "<table border=\"1\" class=\"dataframe\">\n",
       "  <thead>\n",
       "    <tr style=\"text-align: right;\">\n",
       "      <th></th>\n",
       "      <th>hits_referer</th>\n",
       "      <th>频道</th>\n",
       "      <th>关键词代码</th>\n",
       "      <th>关键字</th>\n",
       "      <th>详情页直达链接次数</th>\n",
       "    </tr>\n",
       "  </thead>\n",
       "  <tbody>\n",
       "    <tr>\n",
       "      <th>0</th>\n",
       "      <td>http://search.smzdm.com/?c</td>\n",
       "      <td>home</td>\n",
       "      <td>%E7%89%9B%E5%A5%B6</td>\n",
       "      <td>牛奶</td>\n",
       "      <td>772</td>\n",
       "    </tr>\n",
       "    <tr>\n",
       "      <th>1</th>\n",
       "      <td>http://search.smzdm.com/?c</td>\n",
       "      <td>home</td>\n",
       "      <td>%E5%95%A4%E9%85%92</td>\n",
       "      <td>啤酒</td>\n",
       "      <td>712</td>\n",
       "    </tr>\n",
       "    <tr>\n",
       "      <th>2</th>\n",
       "      <td>http://search.smzdm.com/?c</td>\n",
       "      <td>home</td>\n",
       "      <td>%E6%89%8B%E6%9C%BA</td>\n",
       "      <td>手机</td>\n",
       "      <td>684</td>\n",
       "    </tr>\n",
       "    <tr>\n",
       "      <th>3</th>\n",
       "      <td>http://search.smzdm.com/?c</td>\n",
       "      <td>home</td>\n",
       "      <td>%E7%A9%BA%E8%B0%83</td>\n",
       "      <td>空调</td>\n",
       "      <td>663</td>\n",
       "    </tr>\n",
       "    <tr>\n",
       "      <th>4</th>\n",
       "      <td>http://search.smzdm.com/?c</td>\n",
       "      <td>home</td>\n",
       "      <td>%E7%AC%94%E8%AE%B0%E6%9C%AC</td>\n",
       "      <td>笔记本</td>\n",
       "      <td>571</td>\n",
       "    </tr>\n",
       "    <tr>\n",
       "      <th>5</th>\n",
       "      <td>http://search.smzdm.com/?c</td>\n",
       "      <td>home</td>\n",
       "      <td>%E6%98%BE%E7%A4%BA%E5%99%A8</td>\n",
       "      <td>显示器</td>\n",
       "      <td>-1</td>\n",
       "    </tr>\n",
       "  </tbody>\n",
       "</table>\n",
       "</div>"
      ],
      "text/plain": [
       "                 hits_referer    频道                        关键词代码  关键字  \\\n",
       "0  http://search.smzdm.com/?c  home           %E7%89%9B%E5%A5%B6   牛奶   \n",
       "1  http://search.smzdm.com/?c  home           %E5%95%A4%E9%85%92   啤酒   \n",
       "2  http://search.smzdm.com/?c  home           %E6%89%8B%E6%9C%BA   手机   \n",
       "3  http://search.smzdm.com/?c  home           %E7%A9%BA%E8%B0%83   空调   \n",
       "4  http://search.smzdm.com/?c  home  %E7%AC%94%E8%AE%B0%E6%9C%AC  笔记本   \n",
       "5  http://search.smzdm.com/?c  home  %E6%98%BE%E7%A4%BA%E5%99%A8  显示器   \n",
       "\n",
       "   详情页直达链接次数  \n",
       "0        772  \n",
       "1        712  \n",
       "2        684  \n",
       "3        663  \n",
       "4        571  \n",
       "5         -1  "
      ]
     },
     "execution_count": 13,
     "metadata": {},
     "output_type": "execute_result"
    }
   ],
   "source": [
    "pd.read_excel('data.xlsx',sheetname=0)"
   ]
  },
  {
   "cell_type": "code",
   "execution_count": 14,
   "metadata": {
    "collapsed": false
   },
   "outputs": [
    {
     "data": {
      "text/html": [
       "<div>\n",
       "<table border=\"1\" class=\"dataframe\">\n",
       "  <thead>\n",
       "    <tr style=\"text-align: right;\">\n",
       "      <th></th>\n",
       "      <th>hits_referer</th>\n",
       "      <th>频道</th>\n",
       "      <th>关键词代码</th>\n",
       "      <th>关键字</th>\n",
       "      <th>详情页直达链接次数</th>\n",
       "    </tr>\n",
       "  </thead>\n",
       "  <tbody>\n",
       "    <tr>\n",
       "      <th>0</th>\n",
       "      <td>http://search.smzdm.com/?c</td>\n",
       "      <td>home</td>\n",
       "      <td>%E7%89%9B%E5%A5%B6</td>\n",
       "      <td>牛奶</td>\n",
       "      <td>772</td>\n",
       "    </tr>\n",
       "    <tr>\n",
       "      <th>1</th>\n",
       "      <td>http://search.smzdm.com/?c</td>\n",
       "      <td>home</td>\n",
       "      <td>%E5%95%A4%E9%85%92</td>\n",
       "      <td>啤酒</td>\n",
       "      <td>712</td>\n",
       "    </tr>\n",
       "    <tr>\n",
       "      <th>2</th>\n",
       "      <td>http://search.smzdm.com/?c</td>\n",
       "      <td>home</td>\n",
       "      <td>%E6%89%8B%E6%9C%BA</td>\n",
       "      <td>手机</td>\n",
       "      <td>684</td>\n",
       "    </tr>\n",
       "    <tr>\n",
       "      <th>3</th>\n",
       "      <td>http://search.smzdm.com/?c</td>\n",
       "      <td>home</td>\n",
       "      <td>%E7%A9%BA%E8%B0%83</td>\n",
       "      <td>空调</td>\n",
       "      <td>663</td>\n",
       "    </tr>\n",
       "    <tr>\n",
       "      <th>4</th>\n",
       "      <td>http://search.smzdm.com/?c</td>\n",
       "      <td>home</td>\n",
       "      <td>%E7%AC%94%E8%AE%B0%E6%9C%AC</td>\n",
       "      <td>笔记本</td>\n",
       "      <td>571</td>\n",
       "    </tr>\n",
       "    <tr>\n",
       "      <th>5</th>\n",
       "      <td>http://search.smzdm.com/?c</td>\n",
       "      <td>home</td>\n",
       "      <td>%E6%98%BE%E7%A4%BA%E5%99%A8</td>\n",
       "      <td>显示器</td>\n",
       "      <td>-1</td>\n",
       "    </tr>\n",
       "  </tbody>\n",
       "</table>\n",
       "</div>"
      ],
      "text/plain": [
       "                 hits_referer    频道                        关键词代码  关键字  \\\n",
       "0  http://search.smzdm.com/?c  home           %E7%89%9B%E5%A5%B6   牛奶   \n",
       "1  http://search.smzdm.com/?c  home           %E5%95%A4%E9%85%92   啤酒   \n",
       "2  http://search.smzdm.com/?c  home           %E6%89%8B%E6%9C%BA   手机   \n",
       "3  http://search.smzdm.com/?c  home           %E7%A9%BA%E8%B0%83   空调   \n",
       "4  http://search.smzdm.com/?c  home  %E7%AC%94%E8%AE%B0%E6%9C%AC  笔记本   \n",
       "5  http://search.smzdm.com/?c  home  %E6%98%BE%E7%A4%BA%E5%99%A8  显示器   \n",
       "\n",
       "   详情页直达链接次数  \n",
       "0        772  \n",
       "1        712  \n",
       "2        684  \n",
       "3        663  \n",
       "4        571  \n",
       "5         -1  "
      ]
     },
     "execution_count": 14,
     "metadata": {},
     "output_type": "execute_result"
    }
   ],
   "source": [
    "pd.read_excel('data.xlsx',sheetname='data')"
   ]
  },
  {
   "cell_type": "markdown",
   "metadata": {},
   "source": [
    "<b>数据导出</b>"
   ]
  },
  {
   "cell_type": "markdown",
   "metadata": {},
   "source": [
    "Pandas可以将数据导出成很多类型，这儿只介绍几种。"
   ]
  },
  {
   "cell_type": "code",
   "execution_count": 16,
   "metadata": {
    "collapsed": false
   },
   "outputs": [],
   "source": [
    "data.to_csv('test.csv',encoding='gbk')"
   ]
  },
  {
   "cell_type": "markdown",
   "metadata": {},
   "source": [
    "“to_csv”方法将数据框写入一个以逗号作为分隔符的（csv）文件，在众多的参数中，你可以自定义分隔符（通过参数“sep”）、缺失值表示方式（通过“na_rep”参数）、是否写入索引（通过参数“index”）、是否包括表头（通过参数“header”）。"
   ]
  },
  {
   "cell_type": "markdown",
   "metadata": {},
   "source": [
    "将数据保存到磁盘的一个有效的存储方式是二进制，Pandas利用Python内建的pickle序列化来实现。"
   ]
  },
  {
   "cell_type": "code",
   "execution_count": 17,
   "metadata": {
    "collapsed": true
   },
   "outputs": [],
   "source": [
    "data.to_pickle('test_pickle')"
   ]
  },
  {
   "cell_type": "markdown",
   "metadata": {},
   "source": [
    "“to_pickle”的逆函数是“read_pickle”，也就是将pickle还原为数据框或列表："
   ]
  },
  {
   "cell_type": "code",
   "execution_count": 18,
   "metadata": {
    "collapsed": false
   },
   "outputs": [
    {
     "data": {
      "text/html": [
       "<div>\n",
       "<table border=\"1\" class=\"dataframe\">\n",
       "  <thead>\n",
       "    <tr style=\"text-align: right;\">\n",
       "      <th></th>\n",
       "      <th>hits_referer</th>\n",
       "      <th>频道</th>\n",
       "      <th>关键词代码</th>\n",
       "      <th>关键字</th>\n",
       "      <th>详情页直达链接次数</th>\n",
       "    </tr>\n",
       "  </thead>\n",
       "  <tbody>\n",
       "    <tr>\n",
       "      <th>0</th>\n",
       "      <td>http://search.smzdm.com/?c</td>\n",
       "      <td>home</td>\n",
       "      <td>%E7%89%9B%E5%A5%B6</td>\n",
       "      <td>牛奶</td>\n",
       "      <td>772</td>\n",
       "    </tr>\n",
       "    <tr>\n",
       "      <th>1</th>\n",
       "      <td>http://search.smzdm.com/?c</td>\n",
       "      <td>home</td>\n",
       "      <td>%E5%95%A4%E9%85%92</td>\n",
       "      <td>啤酒</td>\n",
       "      <td>712</td>\n",
       "    </tr>\n",
       "    <tr>\n",
       "      <th>2</th>\n",
       "      <td>http://search.smzdm.com/?c</td>\n",
       "      <td>home</td>\n",
       "      <td>%E6%89%8B%E6%9C%BA</td>\n",
       "      <td>手机</td>\n",
       "      <td>684</td>\n",
       "    </tr>\n",
       "    <tr>\n",
       "      <th>3</th>\n",
       "      <td>http://search.smzdm.com/?c</td>\n",
       "      <td>home</td>\n",
       "      <td>%E7%A9%BA%E8%B0%83</td>\n",
       "      <td>空调</td>\n",
       "      <td>663</td>\n",
       "    </tr>\n",
       "    <tr>\n",
       "      <th>4</th>\n",
       "      <td>http://search.smzdm.com/?c</td>\n",
       "      <td>home</td>\n",
       "      <td>%E7%AC%94%E8%AE%B0%E6%9C%AC</td>\n",
       "      <td>笔记本</td>\n",
       "      <td>571</td>\n",
       "    </tr>\n",
       "    <tr>\n",
       "      <th>5</th>\n",
       "      <td>http://search.smzdm.com/?c</td>\n",
       "      <td>home</td>\n",
       "      <td>%E6%98%BE%E7%A4%BA%E5%99%A8</td>\n",
       "      <td>显示器</td>\n",
       "      <td>-1</td>\n",
       "    </tr>\n",
       "  </tbody>\n",
       "</table>\n",
       "</div>"
      ],
      "text/plain": [
       "                 hits_referer    频道                        关键词代码  关键字  \\\n",
       "0  http://search.smzdm.com/?c  home           %E7%89%9B%E5%A5%B6   牛奶   \n",
       "1  http://search.smzdm.com/?c  home           %E5%95%A4%E9%85%92   啤酒   \n",
       "2  http://search.smzdm.com/?c  home           %E6%89%8B%E6%9C%BA   手机   \n",
       "3  http://search.smzdm.com/?c  home           %E7%A9%BA%E8%B0%83   空调   \n",
       "4  http://search.smzdm.com/?c  home  %E7%AC%94%E8%AE%B0%E6%9C%AC  笔记本   \n",
       "5  http://search.smzdm.com/?c  home  %E6%98%BE%E7%A4%BA%E5%99%A8  显示器   \n",
       "\n",
       "   详情页直达链接次数  \n",
       "0        772  \n",
       "1        712  \n",
       "2        684  \n",
       "3        663  \n",
       "4        571  \n",
       "5         -1  "
      ]
     },
     "execution_count": 18,
     "metadata": {},
     "output_type": "execute_result"
    }
   ],
   "source": [
    "pd.read_pickle(\"test_pickle\")"
   ]
  }
 ],
 "metadata": {
  "kernelspec": {
   "display_name": "Python 2",
   "language": "python",
   "name": "python2"
  },
  "language_info": {
   "codemirror_mode": {
    "name": "ipython",
    "version": 2
   },
   "file_extension": ".py",
   "mimetype": "text/x-python",
   "name": "python",
   "nbconvert_exporter": "python",
   "pygments_lexer": "ipython2",
   "version": "2.7.11"
  }
 },
 "nbformat": 4,
 "nbformat_minor": 0
}
